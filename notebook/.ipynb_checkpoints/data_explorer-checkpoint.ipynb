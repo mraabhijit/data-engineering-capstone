{
 "cells": [
  {
   "cell_type": "code",
   "execution_count": 1,
   "id": "644e842f-5395-4b76-b4ab-e2185972eac3",
   "metadata": {},
   "outputs": [],
   "source": [
    "import os\n",
    "import json\n",
    "import pandas as pd"
   ]
  },
  {
   "cell_type": "code",
   "execution_count": 2,
   "id": "bf6e3425-3fb6-4a36-a5dc-ab0918d96130",
   "metadata": {},
   "outputs": [],
   "source": [
    "uri = \"../temp/matches.json\""
   ]
  },
  {
   "cell_type": "code",
   "execution_count": 3,
   "id": "86f93a4b-a794-4c69-a20d-0ae40828ec98",
   "metadata": {},
   "outputs": [
    {
     "data": {
      "text/plain": [
       "True"
      ]
     },
     "execution_count": 3,
     "metadata": {},
     "output_type": "execute_result"
    }
   ],
   "source": [
    "os.path.exists(uri)"
   ]
  },
  {
   "cell_type": "code",
   "execution_count": 4,
   "id": "a75a559a-5ec9-400f-b4b2-d6de68292889",
   "metadata": {},
   "outputs": [],
   "source": [
    "with open(uri) as file:\n",
    "    data = json.load(file)"
   ]
  },
  {
   "cell_type": "code",
   "execution_count": 5,
   "id": "f20e2cf7-66eb-4538-83dd-42845366a9af",
   "metadata": {},
   "outputs": [],
   "source": [
    "pl_data = data['Premier League'][0]"
   ]
  },
  {
   "cell_type": "code",
   "execution_count": 8,
   "id": "c4697df8-4012-436e-ab16-032180f80e63",
   "metadata": {},
   "outputs": [
    {
     "data": {
      "text/plain": [
       "'FINISHED'"
      ]
     },
     "execution_count": 8,
     "metadata": {},
     "output_type": "execute_result"
    }
   ],
   "source": [
    "pl_data['matches'][0]['status']"
   ]
  },
  {
   "cell_type": "code",
   "execution_count": 8,
   "id": "94cb4444-a584-4b96-ac75-6c4c1a485b53",
   "metadata": {},
   "outputs": [
    {
     "data": {
      "text/plain": [
       "2023"
      ]
     },
     "execution_count": 8,
     "metadata": {},
     "output_type": "execute_result"
    }
   ],
   "source": [
    "season = int(pl_data['filters']['season'])\n",
    "season"
   ]
  },
  {
   "cell_type": "code",
   "execution_count": 9,
   "id": "07458b4d-db92-4056-8763-b942726313c3",
   "metadata": {},
   "outputs": [
    {
     "data": {
      "text/plain": [
       "1"
      ]
     },
     "execution_count": 9,
     "metadata": {},
     "output_type": "execute_result"
    }
   ],
   "source": [
    "matchday = int(pl_data['filters']['matchday'])\n",
    "matchday"
   ]
  },
  {
   "cell_type": "code",
   "execution_count": 10,
   "id": "9bf40fce-59c6-40c6-8efb-5a9c205f41ee",
   "metadata": {},
   "outputs": [],
   "source": [
    "# pl_data['resultSet']"
   ]
  },
  {
   "cell_type": "markdown",
   "id": "caa821f9-176c-4af1-9a6e-f33abff9b814",
   "metadata": {},
   "source": [
    "##### FIRST_MATCHDAY = pl_data['resultSet']['first']\n",
    "##### LAST_MATCHDAY = pl_data['resultSet']['last']\n",
    "\n",
    "##### FIRST_MATCHDAY, LAST_MATCHDAY"
   ]
  },
  {
   "cell_type": "code",
   "execution_count": 11,
   "id": "c8a04c08-2175-4ca6-a2f1-b36280dfd69c",
   "metadata": {},
   "outputs": [
    {
     "data": {
      "text/plain": [
       "2021"
      ]
     },
     "execution_count": 11,
     "metadata": {},
     "output_type": "execute_result"
    }
   ],
   "source": [
    "LEAGUE_ID = pl_data['competition']['id']\n",
    "\n",
    "LEAGUE_ID"
   ]
  },
  {
   "cell_type": "code",
   "execution_count": 12,
   "id": "ca57d6a2-2531-4fe7-b997-3d09576fef64",
   "metadata": {},
   "outputs": [],
   "source": [
    "# pl_data['matches']"
   ]
  },
  {
   "cell_type": "code",
   "execution_count": 13,
   "id": "dd749201-517a-4c63-9fa5-257ae87b880a",
   "metadata": {
    "scrolled": true
   },
   "outputs": [],
   "source": [
    "# pl_data['matches'][0]"
   ]
  },
  {
   "cell_type": "code",
   "execution_count": 14,
   "id": "3a0f9e52-72a2-4f5a-aa4b-678f789a81a1",
   "metadata": {},
   "outputs": [],
   "source": [
    "# pl_data['matches'][0].keys()"
   ]
  },
  {
   "cell_type": "code",
   "execution_count": 15,
   "id": "20b0e895-a1f5-4a27-a4ad-e28df80680fb",
   "metadata": {},
   "outputs": [
    {
     "data": {
      "text/plain": [
       "('2023-08-11', '2024-05-19')"
      ]
     },
     "execution_count": 15,
     "metadata": {},
     "output_type": "execute_result"
    }
   ],
   "source": [
    "FIRST_MATCHDAY = pl_data['matches'][0]['season']['startDate']\n",
    "LAST_MATCHDAY = pl_data['matches'][0]['season']['endDate']\n",
    "FIRST_MATCHDAY, LAST_MATCHDAY"
   ]
  },
  {
   "cell_type": "code",
   "execution_count": 16,
   "id": "f005105a-7620-4f5a-89f2-6be94beb5b58",
   "metadata": {},
   "outputs": [
    {
     "data": {
      "text/plain": [
       "435943"
      ]
     },
     "execution_count": 16,
     "metadata": {},
     "output_type": "execute_result"
    }
   ],
   "source": [
    "match_id = pl_data['matches'][0]['id']\n",
    "\n",
    "match_id"
   ]
  },
  {
   "cell_type": "code",
   "execution_count": 17,
   "id": "54753fa3-672a-4244-ad8d-92a0e3bcc523",
   "metadata": {},
   "outputs": [
    {
     "data": {
      "text/plain": [
       "'2023-08-11T19:00:00Z'"
      ]
     },
     "execution_count": 17,
     "metadata": {},
     "output_type": "execute_result"
    }
   ],
   "source": [
    "matchdate = pl_data['matches'][0]['utcDate']\n",
    "matchdate"
   ]
  },
  {
   "cell_type": "code",
   "execution_count": 18,
   "id": "ceb88896-f702-4fea-b98e-e93b4a328be9",
   "metadata": {},
   "outputs": [
    {
     "data": {
      "text/plain": [
       "'Burnley'"
      ]
     },
     "execution_count": 18,
     "metadata": {},
     "output_type": "execute_result"
    }
   ],
   "source": [
    "home_team = pl_data['matches'][0]['homeTeam']['shortName']\n",
    "home_team"
   ]
  },
  {
   "cell_type": "code",
   "execution_count": 19,
   "id": "48066b69-2eee-485e-990e-f7f4fc414edb",
   "metadata": {},
   "outputs": [
    {
     "data": {
      "text/plain": [
       "'Man City'"
      ]
     },
     "execution_count": 19,
     "metadata": {},
     "output_type": "execute_result"
    }
   ],
   "source": [
    "away_team = pl_data['matches'][0]['awayTeam']['shortName']\n",
    "away_team"
   ]
  },
  {
   "cell_type": "code",
   "execution_count": 20,
   "id": "7092e0b3-c861-4544-a6ab-1a350c0612b3",
   "metadata": {},
   "outputs": [
    {
     "data": {
      "text/plain": [
       "0"
      ]
     },
     "execution_count": 20,
     "metadata": {},
     "output_type": "execute_result"
    }
   ],
   "source": [
    "home_score = pl_data['matches'][0]['score']['fullTime']['home']\n",
    "home_score"
   ]
  },
  {
   "cell_type": "code",
   "execution_count": 21,
   "id": "bb268a95-67ab-4375-a317-65a9ef00587f",
   "metadata": {},
   "outputs": [
    {
     "data": {
      "text/plain": [
       "3"
      ]
     },
     "execution_count": 21,
     "metadata": {},
     "output_type": "execute_result"
    }
   ],
   "source": [
    "away_score = pl_data['matches'][0]['score']['fullTime']['away']\n",
    "away_score"
   ]
  },
  {
   "cell_type": "code",
   "execution_count": 14,
   "id": "f852f001-3ce3-4b1d-8650-32155f9b19ec",
   "metadata": {},
   "outputs": [],
   "source": [
    "def get_match_points(home_score: int, away_score: int) -> tuple[int, int]:\n",
    "\n",
    "    # if isinstance(home_score, int):\n",
    "    if home_score == away_score:\n",
    "        home_team_points, away_team_points = 1, 1\n",
    "    elif home_score > away_score:\n",
    "        home_team_points = 3\n",
    "        away_team_points = 0\n",
    "    else:\n",
    "        home_team_points = 0\n",
    "        away_team_points = 3\n",
    "    # else:\n",
    "    #     home_team_points = None\n",
    "    #     away_team_points = None\n",
    "    \n",
    "    return home_team_points, away_team_points "
   ]
  },
  {
   "cell_type": "code",
   "execution_count": 15,
   "id": "15d02d30-b667-4710-92fa-f962e919415b",
   "metadata": {},
   "outputs": [],
   "source": [
    "def get_goal_difference(home_score: int, away_score: int) -> tuple[int, int]:\n",
    "    # if isinstance(home_score, int):\n",
    "    home_gd = home_score - away_score\n",
    "    away_gd = -home_gd\n",
    "    # else:\n",
    "    #     home_gd = None\n",
    "    #     away_gd = None\n",
    "\n",
    "    return home_gd, -home_gd"
   ]
  },
  {
   "cell_type": "code",
   "execution_count": 11,
   "id": "87f9965c-4d80-4759-83bd-81f22f2798ab",
   "metadata": {},
   "outputs": [],
   "source": [
    "leagues = {'Premier League': [38, 10], \n",
    "          'Bundesliga': [34, 9], \n",
    "          'Ligue 1': [34, 9], \n",
    "          'La Liga': [38, 10], \n",
    "          'Serie A': [38, 10]}"
   ]
  },
  {
   "cell_type": "code",
   "execution_count": 16,
   "id": "a425e9ff-add8-4779-91b4-ec174b5ed16e",
   "metadata": {},
   "outputs": [
    {
     "name": "stdout",
     "output_type": "stream",
     "text": [
      "Getting data for Premier League...\n",
      "Getting data for Bundesliga...\n",
      "Getting data for Ligue 1...\n",
      "Getting data for La Liga...\n",
      "Getting data for Serie A...\n",
      "Successfully completed adding finished matches data for top 5 leagues...\n"
     ]
    }
   ],
   "source": [
    "columns = ['league', 'season', 'league_id', 'season_start_date', 'season_end_date', \n",
    "           'matchday', 'match_id', 'match_date', 'home_team', 'away_team', \n",
    "           'home_score', 'away_score', 'home_team_points_earned', 'away_team_points_earned', \n",
    "           'home_team_gd', 'away_team_gd', 'match_referee']\n",
    "\n",
    "df = pd.DataFrame(columns = columns)\n",
    "\n",
    "for league, total_matchdays in leagues.items():\n",
    "\n",
    "    print(f\"Getting data for {league}...\")\n",
    "    # Get Season, League_id, first and last matchday dates only once as that is a constant\n",
    "    firstday_data = data[league][0]\n",
    "    SEASON = int(firstday_data['filters']['season'])\n",
    "    LEAGUE_ID = firstday_data['competition']['id']\n",
    "    FIRST_MATCHDAY = firstday_data['matches'][0]['season']['startDate']\n",
    "    LAST_MATCHDAY = firstday_data['matches'][0]['season']['endDate']\n",
    "    \n",
    "    # Also need to consider status\n",
    "    for mday in range(0, total_matchdays[0]):\n",
    "        # print(f\"\\tGetting matchday {mday+1} data...\")\n",
    "        league_data = data[league][mday]\n",
    "\n",
    "        # No data available for matchday 23 of Serie A :(\n",
    "        if league == 'Serie A' and mday == 22:\n",
    "            pass\n",
    "        else:\n",
    "            matchday = int(pl_data['filters']['matchday'])\n",
    "        \n",
    "            for match_num in range(0, total_matchdays[1]):\n",
    "                # print(f\"\\t\\tGetting data for match {match_num + 1}\")\n",
    "                match_data = league_data['matches'][match_num]\n",
    "                if match_data['status'] == 'FINISHED':\n",
    "                    match_id = match_data['id']\n",
    "                    matchdate = match_data['utcDate']\n",
    "                    home_team = match_data['homeTeam']['shortName']\n",
    "                    away_team = match_data['awayTeam']['shortName']\n",
    "                    home_score = match_data['score']['fullTime']['home']\n",
    "                    away_score = match_data['score']['fullTime']['away']\n",
    "                          \n",
    "                    try:\n",
    "                        match_referee = match_data['referees'][0]['name']\n",
    "                    except IndexError:\n",
    "                        match_referee = ''\n",
    "                    \n",
    "                    home_team_points, away_team_points = get_match_points(home_score=home_score, away_score=away_score)\n",
    "                    \n",
    "                    # try:\n",
    "                    home_team_gd, away_team_gd = get_goal_difference(home_score=home_score, away_score=away_score)\n",
    "                    # except TypeError:\n",
    "                    #     home_team_gd, away_team_gd = None, None\n",
    "                        \n",
    "                    df.loc[len(df.index)] = [league, SEASON, LEAGUE_ID, FIRST_MATCHDAY, LAST_MATCHDAY, \n",
    "                                             matchday, match_id, matchdate, home_team, away_team, \n",
    "                                             home_score, away_score, home_team_points, away_team_points, \n",
    "                                             home_team_gd, away_team_gd, match_referee]\n",
    "\n",
    "print(\"Successfully completed adding finished matches data for top 5 leagues...\")"
   ]
  },
  {
   "cell_type": "code",
   "execution_count": 17,
   "id": "df85ae84-557c-4a06-befe-252d7422c6d0",
   "metadata": {},
   "outputs": [
    {
     "name": "stdout",
     "output_type": "stream",
     "text": [
      "<class 'pandas.core.frame.DataFrame'>\n",
      "Index: 1283 entries, 0 to 1282\n",
      "Data columns (total 17 columns):\n",
      " #   Column                   Non-Null Count  Dtype \n",
      "---  ------                   --------------  ----- \n",
      " 0   league                   1283 non-null   object\n",
      " 1   season                   1283 non-null   int64 \n",
      " 2   league_id                1283 non-null   int64 \n",
      " 3   season_start_date        1283 non-null   object\n",
      " 4   season_end_date          1283 non-null   object\n",
      " 5   matchday                 1283 non-null   int64 \n",
      " 6   match_id                 1283 non-null   int64 \n",
      " 7   match_date               1283 non-null   object\n",
      " 8   home_team                1283 non-null   object\n",
      " 9   away_team                1283 non-null   object\n",
      " 10  home_score               1283 non-null   int64 \n",
      " 11  away_score               1283 non-null   int64 \n",
      " 12  home_team_points_earned  1283 non-null   int64 \n",
      " 13  away_team_points_earned  1283 non-null   int64 \n",
      " 14  home_team_gd             1283 non-null   int64 \n",
      " 15  away_team_gd             1283 non-null   int64 \n",
      " 16  match_referee            1283 non-null   object\n",
      "dtypes: int64(10), object(7)\n",
      "memory usage: 180.4+ KB\n"
     ]
    }
   ],
   "source": [
    "df.info()"
   ]
  },
  {
   "cell_type": "code",
   "execution_count": 18,
   "id": "30e0b561-81a1-478a-bb28-40c94d05b3ef",
   "metadata": {},
   "outputs": [],
   "source": [
    "# Convert some columns to correct dtype\n",
    "df.season_start_date = pd.to_datetime(df.season_start_date)\n",
    "df.season_end_date = pd.to_datetime(df.season_end_date)\n",
    "df.match_date = pd.to_datetime(df.match_date).dt.date\n",
    "df.match_date = pd.to_datetime(df.match_date)"
   ]
  },
  {
   "cell_type": "code",
   "execution_count": 19,
   "id": "fbd7d986-7871-4de2-a4a7-ba8d0ef149df",
   "metadata": {},
   "outputs": [
    {
     "name": "stdout",
     "output_type": "stream",
     "text": [
      "<class 'pandas.core.frame.DataFrame'>\n",
      "Index: 1283 entries, 0 to 1282\n",
      "Data columns (total 17 columns):\n",
      " #   Column                   Non-Null Count  Dtype         \n",
      "---  ------                   --------------  -----         \n",
      " 0   league                   1283 non-null   object        \n",
      " 1   season                   1283 non-null   int64         \n",
      " 2   league_id                1283 non-null   int64         \n",
      " 3   season_start_date        1283 non-null   datetime64[ns]\n",
      " 4   season_end_date          1283 non-null   datetime64[ns]\n",
      " 5   matchday                 1283 non-null   int64         \n",
      " 6   match_id                 1283 non-null   int64         \n",
      " 7   match_date               1283 non-null   datetime64[ns]\n",
      " 8   home_team                1283 non-null   object        \n",
      " 9   away_team                1283 non-null   object        \n",
      " 10  home_score               1283 non-null   int64         \n",
      " 11  away_score               1283 non-null   int64         \n",
      " 12  home_team_points_earned  1283 non-null   int64         \n",
      " 13  away_team_points_earned  1283 non-null   int64         \n",
      " 14  home_team_gd             1283 non-null   int64         \n",
      " 15  away_team_gd             1283 non-null   int64         \n",
      " 16  match_referee            1283 non-null   object        \n",
      "dtypes: datetime64[ns](3), int64(10), object(4)\n",
      "memory usage: 180.4+ KB\n"
     ]
    }
   ],
   "source": [
    "df.info()"
   ]
  },
  {
   "cell_type": "code",
   "execution_count": 20,
   "id": "1da9fbfa-a307-4d05-881c-8f5a9a0b5db3",
   "metadata": {},
   "outputs": [
    {
     "data": {
      "text/plain": [
       "league                     0\n",
       "season                     0\n",
       "league_id                  0\n",
       "season_start_date          0\n",
       "season_end_date            0\n",
       "matchday                   0\n",
       "match_id                   0\n",
       "match_date                 0\n",
       "home_team                  0\n",
       "away_team                  0\n",
       "home_score                 0\n",
       "away_score                 0\n",
       "home_team_points_earned    0\n",
       "away_team_points_earned    0\n",
       "home_team_gd               0\n",
       "away_team_gd               0\n",
       "match_referee              0\n",
       "dtype: int64"
      ]
     },
     "execution_count": 20,
     "metadata": {},
     "output_type": "execute_result"
    }
   ],
   "source": [
    "df.isnull().sum()"
   ]
  },
  {
   "cell_type": "code",
   "execution_count": 23,
   "id": "fe45b487-f581-4282-ac60-65f89a0f3590",
   "metadata": {},
   "outputs": [
    {
     "data": {
      "text/html": [
       "<div>\n",
       "<style scoped>\n",
       "    .dataframe tbody tr th:only-of-type {\n",
       "        vertical-align: middle;\n",
       "    }\n",
       "\n",
       "    .dataframe tbody tr th {\n",
       "        vertical-align: top;\n",
       "    }\n",
       "\n",
       "    .dataframe thead th {\n",
       "        text-align: right;\n",
       "    }\n",
       "</style>\n",
       "<table border=\"1\" class=\"dataframe\">\n",
       "  <thead>\n",
       "    <tr style=\"text-align: right;\">\n",
       "      <th></th>\n",
       "      <th>league</th>\n",
       "      <th>season</th>\n",
       "      <th>league_id</th>\n",
       "      <th>season_start_date</th>\n",
       "      <th>season_end_date</th>\n",
       "      <th>matchday</th>\n",
       "      <th>match_id</th>\n",
       "      <th>match_date</th>\n",
       "      <th>home_team</th>\n",
       "      <th>away_team</th>\n",
       "      <th>home_score</th>\n",
       "      <th>away_score</th>\n",
       "      <th>home_team_points_earned</th>\n",
       "      <th>away_team_points_earned</th>\n",
       "      <th>home_team_gd</th>\n",
       "      <th>away_team_gd</th>\n",
       "      <th>match_referee</th>\n",
       "    </tr>\n",
       "  </thead>\n",
       "  <tbody>\n",
       "    <tr>\n",
       "      <th>59</th>\n",
       "      <td>Premier League</td>\n",
       "      <td>2023</td>\n",
       "      <td>2021</td>\n",
       "      <td>2023-08-11</td>\n",
       "      <td>2024-05-19</td>\n",
       "      <td>1</td>\n",
       "      <td>436002</td>\n",
       "      <td>2023-09-24</td>\n",
       "      <td>Sheffield Utd</td>\n",
       "      <td>Newcastle</td>\n",
       "      <td>0</td>\n",
       "      <td>8</td>\n",
       "      <td>0</td>\n",
       "      <td>3</td>\n",
       "      <td>-8</td>\n",
       "      <td>8</td>\n",
       "      <td>Stuart Attwell</td>\n",
       "    </tr>\n",
       "    <tr>\n",
       "      <th>760</th>\n",
       "      <td>La Liga</td>\n",
       "      <td>2023</td>\n",
       "      <td>2014</td>\n",
       "      <td>2023-08-13</td>\n",
       "      <td>2024-05-26</td>\n",
       "      <td>1</td>\n",
       "      <td>438502</td>\n",
       "      <td>2023-08-28</td>\n",
       "      <td>Rayo Vallecano</td>\n",
       "      <td>Atleti</td>\n",
       "      <td>0</td>\n",
       "      <td>7</td>\n",
       "      <td>0</td>\n",
       "      <td>3</td>\n",
       "      <td>-7</td>\n",
       "      <td>7</td>\n",
       "      <td>José Munuera Montero</td>\n",
       "    </tr>\n",
       "  </tbody>\n",
       "</table>\n",
       "</div>"
      ],
      "text/plain": [
       "             league  season  league_id season_start_date season_end_date  \\\n",
       "59   Premier League    2023       2021        2023-08-11      2024-05-19   \n",
       "760         La Liga    2023       2014        2023-08-13      2024-05-26   \n",
       "\n",
       "     matchday  match_id match_date       home_team  away_team  home_score  \\\n",
       "59          1    436002 2023-09-24   Sheffield Utd  Newcastle           0   \n",
       "760         1    438502 2023-08-28  Rayo Vallecano     Atleti           0   \n",
       "\n",
       "     away_score  home_team_points_earned  away_team_points_earned  \\\n",
       "59            8                        0                        3   \n",
       "760           7                        0                        3   \n",
       "\n",
       "     home_team_gd  away_team_gd         match_referee  \n",
       "59             -8             8        Stuart Attwell  \n",
       "760            -7             7  José Munuera Montero  "
      ]
     },
     "execution_count": 23,
     "metadata": {},
     "output_type": "execute_result"
    }
   ],
   "source": [
    "df[(df['away_score'] == 7) | (df['away_score'] == 8)]"
   ]
  },
  {
   "cell_type": "code",
   "execution_count": 30,
   "id": "7e34680f-776e-435d-a895-bb2fda551c22",
   "metadata": {},
   "outputs": [
    {
     "data": {
      "text/plain": [
       "46"
      ]
     },
     "execution_count": 30,
     "metadata": {},
     "output_type": "execute_result"
    }
   ],
   "source": [
    "df[(df['home_team'] == 'Arsenal')]['home_team_gd'].sum() + df[(df['away_team'] == 'Arsenal')]['away_team_gd'].sum()"
   ]
  },
  {
   "cell_type": "code",
   "execution_count": 31,
   "id": "e74ab803-25e7-413e-a73f-f4c8b59ebbc4",
   "metadata": {},
   "outputs": [
    {
     "data": {
      "text/plain": [
       "70"
      ]
     },
     "execution_count": 31,
     "metadata": {},
     "output_type": "execute_result"
    }
   ],
   "source": [
    "df[(df['home_team'] == 'Arsenal')]['home_score'].sum() + df[(df['away_team'] == 'Arsenal')]['away_score'].sum()"
   ]
  },
  {
   "cell_type": "code",
   "execution_count": 32,
   "id": "e35a7380-8cac-4046-bf3d-5ad23d5d1084",
   "metadata": {},
   "outputs": [
    {
     "data": {
      "text/plain": [
       "24"
      ]
     },
     "execution_count": 32,
     "metadata": {},
     "output_type": "execute_result"
    }
   ],
   "source": [
    "df[(df['home_team'] == 'Arsenal')]['away_score'].sum() + df[(df['away_team'] == 'Arsenal')]['home_score'].sum()"
   ]
  },
  {
   "cell_type": "code",
   "execution_count": 35,
   "id": "fd9da37f-2e1f-47c5-9fe5-383aa757619c",
   "metadata": {},
   "outputs": [
    {
     "data": {
      "text/plain": [
       "4"
      ]
     },
     "execution_count": 35,
     "metadata": {},
     "output_type": "execute_result"
    }
   ],
   "source": [
    "len(df[(df['home_team'] == 'Arsenal') & (df['home_team_points_earned'] == 1)]) + \\\n",
    "len(df[(df['away_team'] == 'Arsenal') & (df['away_team_points_earned'] == 1)])"
   ]
  },
  {
   "cell_type": "code",
   "execution_count": 36,
   "id": "17f36df2-ae26-4ee1-81a6-248e6d5ccd11",
   "metadata": {},
   "outputs": [
    {
     "data": {
      "text/plain": [
       "64"
      ]
     },
     "execution_count": 36,
     "metadata": {},
     "output_type": "execute_result"
    }
   ],
   "source": [
    "df[(df['home_team'] == 'Arsenal')]['home_team_points_earned'].sum() + df[(df['away_team'] == 'Arsenal')]['away_team_points_earned'].sum()"
   ]
  },
  {
   "cell_type": "code",
   "execution_count": 51,
   "id": "4e44fdfc-966f-4b3d-b8bf-5bab4f0ce5f1",
   "metadata": {},
   "outputs": [],
   "source": [
    "df_matches = df[['match_id', 'home_team', 'away_team', 'home_score', \n",
    "'away_score', 'home_team_points_earned', 'away_team_points_earned', 'home_team_gd', 'away_team_gd']]"
   ]
  },
  {
   "cell_type": "code",
   "execution_count": 52,
   "id": "226670ef-f366-4ca7-9719-7ef86220c64d",
   "metadata": {},
   "outputs": [
    {
     "data": {
      "text/html": [
       "<div>\n",
       "<style scoped>\n",
       "    .dataframe tbody tr th:only-of-type {\n",
       "        vertical-align: middle;\n",
       "    }\n",
       "\n",
       "    .dataframe tbody tr th {\n",
       "        vertical-align: top;\n",
       "    }\n",
       "\n",
       "    .dataframe thead th {\n",
       "        text-align: right;\n",
       "    }\n",
       "</style>\n",
       "<table border=\"1\" class=\"dataframe\">\n",
       "  <thead>\n",
       "    <tr style=\"text-align: right;\">\n",
       "      <th></th>\n",
       "      <th>match_id</th>\n",
       "      <th>home_team</th>\n",
       "      <th>away_team</th>\n",
       "      <th>home_score</th>\n",
       "      <th>away_score</th>\n",
       "      <th>home_team_points_earned</th>\n",
       "      <th>away_team_points_earned</th>\n",
       "      <th>home_team_gd</th>\n",
       "      <th>away_team_gd</th>\n",
       "    </tr>\n",
       "  </thead>\n",
       "  <tbody>\n",
       "    <tr>\n",
       "      <th>0</th>\n",
       "      <td>435943</td>\n",
       "      <td>Burnley</td>\n",
       "      <td>Man City</td>\n",
       "      <td>0</td>\n",
       "      <td>3</td>\n",
       "      <td>0</td>\n",
       "      <td>3</td>\n",
       "      <td>-3</td>\n",
       "      <td>3</td>\n",
       "    </tr>\n",
       "    <tr>\n",
       "      <th>1</th>\n",
       "      <td>435944</td>\n",
       "      <td>Arsenal</td>\n",
       "      <td>Nottingham</td>\n",
       "      <td>2</td>\n",
       "      <td>1</td>\n",
       "      <td>3</td>\n",
       "      <td>0</td>\n",
       "      <td>1</td>\n",
       "      <td>-1</td>\n",
       "    </tr>\n",
       "    <tr>\n",
       "      <th>2</th>\n",
       "      <td>435945</td>\n",
       "      <td>Bournemouth</td>\n",
       "      <td>West Ham</td>\n",
       "      <td>1</td>\n",
       "      <td>1</td>\n",
       "      <td>1</td>\n",
       "      <td>1</td>\n",
       "      <td>0</td>\n",
       "      <td>0</td>\n",
       "    </tr>\n",
       "    <tr>\n",
       "      <th>3</th>\n",
       "      <td>435946</td>\n",
       "      <td>Brighton Hove</td>\n",
       "      <td>Luton Town</td>\n",
       "      <td>4</td>\n",
       "      <td>1</td>\n",
       "      <td>3</td>\n",
       "      <td>0</td>\n",
       "      <td>3</td>\n",
       "      <td>-3</td>\n",
       "    </tr>\n",
       "    <tr>\n",
       "      <th>4</th>\n",
       "      <td>435947</td>\n",
       "      <td>Everton</td>\n",
       "      <td>Fulham</td>\n",
       "      <td>0</td>\n",
       "      <td>1</td>\n",
       "      <td>0</td>\n",
       "      <td>3</td>\n",
       "      <td>-1</td>\n",
       "      <td>1</td>\n",
       "    </tr>\n",
       "  </tbody>\n",
       "</table>\n",
       "</div>"
      ],
      "text/plain": [
       "   match_id      home_team   away_team  home_score  away_score  \\\n",
       "0    435943        Burnley    Man City           0           3   \n",
       "1    435944        Arsenal  Nottingham           2           1   \n",
       "2    435945    Bournemouth    West Ham           1           1   \n",
       "3    435946  Brighton Hove  Luton Town           4           1   \n",
       "4    435947        Everton      Fulham           0           1   \n",
       "\n",
       "   home_team_points_earned  away_team_points_earned  home_team_gd  \\\n",
       "0                        0                        3            -3   \n",
       "1                        3                        0             1   \n",
       "2                        1                        1             0   \n",
       "3                        3                        0             3   \n",
       "4                        0                        3            -1   \n",
       "\n",
       "   away_team_gd  \n",
       "0             3  \n",
       "1            -1  \n",
       "2             0  \n",
       "3            -3  \n",
       "4             1  "
      ]
     },
     "execution_count": 52,
     "metadata": {},
     "output_type": "execute_result"
    }
   ],
   "source": [
    "df_matches.head()"
   ]
  },
  {
   "cell_type": "code",
   "execution_count": 39,
   "id": "d43287e9-918d-4f8d-a527-60913ccf3494",
   "metadata": {},
   "outputs": [
    {
     "data": {
      "text/plain": [
       "Index(['league', 'season', 'league_id', 'season_start_date', 'season_end_date',\n",
       "       'matchday', 'match_id', 'match_date', 'home_team', 'away_team',\n",
       "       'home_score', 'away_score', 'home_team_points_earned',\n",
       "       'away_team_points_earned', 'home_team_gd', 'away_team_gd',\n",
       "       'match_referee'],\n",
       "      dtype='object')"
      ]
     },
     "execution_count": 39,
     "metadata": {},
     "output_type": "execute_result"
    }
   ],
   "source": [
    "df.columns"
   ]
  },
  {
   "cell_type": "code",
   "execution_count": 53,
   "id": "554ed55b-44a8-4ce3-a8e6-52f024c0077e",
   "metadata": {},
   "outputs": [],
   "source": [
    "columns_match_info = ['league', 'league_id',\n",
    "       'matchday', 'match_id', 'match_date',\n",
    "       'match_referee']"
   ]
  },
  {
   "cell_type": "code",
   "execution_count": 54,
   "id": "fed6c2dc-da80-4729-871e-2f11bdd68cb1",
   "metadata": {},
   "outputs": [],
   "source": [
    "df_match_info = df[columns_match_info]"
   ]
  },
  {
   "cell_type": "code",
   "execution_count": 55,
   "id": "c9c4664a-ef6f-4bd4-aa84-42a64ef4f1f6",
   "metadata": {},
   "outputs": [
    {
     "data": {
      "text/html": [
       "<div>\n",
       "<style scoped>\n",
       "    .dataframe tbody tr th:only-of-type {\n",
       "        vertical-align: middle;\n",
       "    }\n",
       "\n",
       "    .dataframe tbody tr th {\n",
       "        vertical-align: top;\n",
       "    }\n",
       "\n",
       "    .dataframe thead th {\n",
       "        text-align: right;\n",
       "    }\n",
       "</style>\n",
       "<table border=\"1\" class=\"dataframe\">\n",
       "  <thead>\n",
       "    <tr style=\"text-align: right;\">\n",
       "      <th></th>\n",
       "      <th>league</th>\n",
       "      <th>league_id</th>\n",
       "      <th>matchday</th>\n",
       "      <th>match_id</th>\n",
       "      <th>match_date</th>\n",
       "      <th>match_referee</th>\n",
       "    </tr>\n",
       "  </thead>\n",
       "  <tbody>\n",
       "    <tr>\n",
       "      <th>0</th>\n",
       "      <td>Premier League</td>\n",
       "      <td>2021</td>\n",
       "      <td>1</td>\n",
       "      <td>435943</td>\n",
       "      <td>2023-08-11</td>\n",
       "      <td>Craig Pawson</td>\n",
       "    </tr>\n",
       "    <tr>\n",
       "      <th>1</th>\n",
       "      <td>Premier League</td>\n",
       "      <td>2021</td>\n",
       "      <td>1</td>\n",
       "      <td>435944</td>\n",
       "      <td>2023-08-12</td>\n",
       "      <td>Michael Oliver</td>\n",
       "    </tr>\n",
       "    <tr>\n",
       "      <th>2</th>\n",
       "      <td>Premier League</td>\n",
       "      <td>2021</td>\n",
       "      <td>1</td>\n",
       "      <td>435945</td>\n",
       "      <td>2023-08-12</td>\n",
       "      <td>Peter Bankes</td>\n",
       "    </tr>\n",
       "    <tr>\n",
       "      <th>3</th>\n",
       "      <td>Premier League</td>\n",
       "      <td>2021</td>\n",
       "      <td>1</td>\n",
       "      <td>435946</td>\n",
       "      <td>2023-08-12</td>\n",
       "      <td>David Coote</td>\n",
       "    </tr>\n",
       "    <tr>\n",
       "      <th>4</th>\n",
       "      <td>Premier League</td>\n",
       "      <td>2021</td>\n",
       "      <td>1</td>\n",
       "      <td>435947</td>\n",
       "      <td>2023-08-12</td>\n",
       "      <td>Stuart Attwell</td>\n",
       "    </tr>\n",
       "    <tr>\n",
       "      <th>...</th>\n",
       "      <td>...</td>\n",
       "      <td>...</td>\n",
       "      <td>...</td>\n",
       "      <td>...</td>\n",
       "      <td>...</td>\n",
       "      <td>...</td>\n",
       "    </tr>\n",
       "    <tr>\n",
       "      <th>1278</th>\n",
       "      <td>Serie A</td>\n",
       "      <td>2019</td>\n",
       "      <td>1</td>\n",
       "      <td>444531</td>\n",
       "      <td>2024-03-10</td>\n",
       "      <td>Juan Luca Sacchi</td>\n",
       "    </tr>\n",
       "    <tr>\n",
       "      <th>1279</th>\n",
       "      <td>Serie A</td>\n",
       "      <td>2019</td>\n",
       "      <td>1</td>\n",
       "      <td>444528</td>\n",
       "      <td>2024-03-10</td>\n",
       "      <td>Marco Guida</td>\n",
       "    </tr>\n",
       "    <tr>\n",
       "      <th>1280</th>\n",
       "      <td>Serie A</td>\n",
       "      <td>2019</td>\n",
       "      <td>1</td>\n",
       "      <td>444526</td>\n",
       "      <td>2024-03-10</td>\n",
       "      <td>Davide Massa</td>\n",
       "    </tr>\n",
       "    <tr>\n",
       "      <th>1281</th>\n",
       "      <td>Serie A</td>\n",
       "      <td>2019</td>\n",
       "      <td>1</td>\n",
       "      <td>444529</td>\n",
       "      <td>2024-03-11</td>\n",
       "      <td>Gianluca Aureliano</td>\n",
       "    </tr>\n",
       "    <tr>\n",
       "      <th>1282</th>\n",
       "      <td>Serie A</td>\n",
       "      <td>2019</td>\n",
       "      <td>1</td>\n",
       "      <td>444535</td>\n",
       "      <td>2024-03-15</td>\n",
       "      <td>Michael Fabbri</td>\n",
       "    </tr>\n",
       "  </tbody>\n",
       "</table>\n",
       "<p>1283 rows × 6 columns</p>\n",
       "</div>"
      ],
      "text/plain": [
       "              league  league_id  matchday  match_id match_date  \\\n",
       "0     Premier League       2021         1    435943 2023-08-11   \n",
       "1     Premier League       2021         1    435944 2023-08-12   \n",
       "2     Premier League       2021         1    435945 2023-08-12   \n",
       "3     Premier League       2021         1    435946 2023-08-12   \n",
       "4     Premier League       2021         1    435947 2023-08-12   \n",
       "...              ...        ...       ...       ...        ...   \n",
       "1278         Serie A       2019         1    444531 2024-03-10   \n",
       "1279         Serie A       2019         1    444528 2024-03-10   \n",
       "1280         Serie A       2019         1    444526 2024-03-10   \n",
       "1281         Serie A       2019         1    444529 2024-03-11   \n",
       "1282         Serie A       2019         1    444535 2024-03-15   \n",
       "\n",
       "           match_referee  \n",
       "0           Craig Pawson  \n",
       "1         Michael Oliver  \n",
       "2           Peter Bankes  \n",
       "3            David Coote  \n",
       "4         Stuart Attwell  \n",
       "...                  ...  \n",
       "1278    Juan Luca Sacchi  \n",
       "1279         Marco Guida  \n",
       "1280        Davide Massa  \n",
       "1281  Gianluca Aureliano  \n",
       "1282      Michael Fabbri  \n",
       "\n",
       "[1283 rows x 6 columns]"
      ]
     },
     "execution_count": 55,
     "metadata": {},
     "output_type": "execute_result"
    }
   ],
   "source": [
    "df_match_info"
   ]
  },
  {
   "cell_type": "code",
   "execution_count": 59,
   "id": "dced8a80-1137-46a6-b5d6-c5ae51a70101",
   "metadata": {},
   "outputs": [],
   "source": [
    "df_seasons =  df[['league_id', 'season', 'season_start_date', 'season_end_date']]"
   ]
  },
  {
   "cell_type": "code",
   "execution_count": 60,
   "id": "8b8bb91c-3fcd-4fe3-8b38-1a23e236019b",
   "metadata": {},
   "outputs": [
    {
     "data": {
      "text/html": [
       "<div>\n",
       "<style scoped>\n",
       "    .dataframe tbody tr th:only-of-type {\n",
       "        vertical-align: middle;\n",
       "    }\n",
       "\n",
       "    .dataframe tbody tr th {\n",
       "        vertical-align: top;\n",
       "    }\n",
       "\n",
       "    .dataframe thead th {\n",
       "        text-align: right;\n",
       "    }\n",
       "</style>\n",
       "<table border=\"1\" class=\"dataframe\">\n",
       "  <thead>\n",
       "    <tr style=\"text-align: right;\">\n",
       "      <th></th>\n",
       "      <th>league_id</th>\n",
       "      <th>season</th>\n",
       "      <th>season_start_date</th>\n",
       "      <th>season_end_date</th>\n",
       "    </tr>\n",
       "  </thead>\n",
       "  <tbody>\n",
       "    <tr>\n",
       "      <th>0</th>\n",
       "      <td>2021</td>\n",
       "      <td>2023</td>\n",
       "      <td>2023-08-11</td>\n",
       "      <td>2024-05-19</td>\n",
       "    </tr>\n",
       "    <tr>\n",
       "      <th>1</th>\n",
       "      <td>2021</td>\n",
       "      <td>2023</td>\n",
       "      <td>2023-08-11</td>\n",
       "      <td>2024-05-19</td>\n",
       "    </tr>\n",
       "    <tr>\n",
       "      <th>2</th>\n",
       "      <td>2021</td>\n",
       "      <td>2023</td>\n",
       "      <td>2023-08-11</td>\n",
       "      <td>2024-05-19</td>\n",
       "    </tr>\n",
       "    <tr>\n",
       "      <th>3</th>\n",
       "      <td>2021</td>\n",
       "      <td>2023</td>\n",
       "      <td>2023-08-11</td>\n",
       "      <td>2024-05-19</td>\n",
       "    </tr>\n",
       "    <tr>\n",
       "      <th>4</th>\n",
       "      <td>2021</td>\n",
       "      <td>2023</td>\n",
       "      <td>2023-08-11</td>\n",
       "      <td>2024-05-19</td>\n",
       "    </tr>\n",
       "    <tr>\n",
       "      <th>...</th>\n",
       "      <td>...</td>\n",
       "      <td>...</td>\n",
       "      <td>...</td>\n",
       "      <td>...</td>\n",
       "    </tr>\n",
       "    <tr>\n",
       "      <th>1278</th>\n",
       "      <td>2019</td>\n",
       "      <td>2023</td>\n",
       "      <td>2023-08-19</td>\n",
       "      <td>2024-05-26</td>\n",
       "    </tr>\n",
       "    <tr>\n",
       "      <th>1279</th>\n",
       "      <td>2019</td>\n",
       "      <td>2023</td>\n",
       "      <td>2023-08-19</td>\n",
       "      <td>2024-05-26</td>\n",
       "    </tr>\n",
       "    <tr>\n",
       "      <th>1280</th>\n",
       "      <td>2019</td>\n",
       "      <td>2023</td>\n",
       "      <td>2023-08-19</td>\n",
       "      <td>2024-05-26</td>\n",
       "    </tr>\n",
       "    <tr>\n",
       "      <th>1281</th>\n",
       "      <td>2019</td>\n",
       "      <td>2023</td>\n",
       "      <td>2023-08-19</td>\n",
       "      <td>2024-05-26</td>\n",
       "    </tr>\n",
       "    <tr>\n",
       "      <th>1282</th>\n",
       "      <td>2019</td>\n",
       "      <td>2023</td>\n",
       "      <td>2023-08-19</td>\n",
       "      <td>2024-05-26</td>\n",
       "    </tr>\n",
       "  </tbody>\n",
       "</table>\n",
       "<p>1283 rows × 4 columns</p>\n",
       "</div>"
      ],
      "text/plain": [
       "      league_id  season season_start_date season_end_date\n",
       "0          2021    2023        2023-08-11      2024-05-19\n",
       "1          2021    2023        2023-08-11      2024-05-19\n",
       "2          2021    2023        2023-08-11      2024-05-19\n",
       "3          2021    2023        2023-08-11      2024-05-19\n",
       "4          2021    2023        2023-08-11      2024-05-19\n",
       "...         ...     ...               ...             ...\n",
       "1278       2019    2023        2023-08-19      2024-05-26\n",
       "1279       2019    2023        2023-08-19      2024-05-26\n",
       "1280       2019    2023        2023-08-19      2024-05-26\n",
       "1281       2019    2023        2023-08-19      2024-05-26\n",
       "1282       2019    2023        2023-08-19      2024-05-26\n",
       "\n",
       "[1283 rows x 4 columns]"
      ]
     },
     "execution_count": 60,
     "metadata": {},
     "output_type": "execute_result"
    }
   ],
   "source": [
    "df_seasons"
   ]
  },
  {
   "cell_type": "code",
   "execution_count": 61,
   "id": "5e590a62-db32-4241-b805-b4e8b2dfb539",
   "metadata": {},
   "outputs": [],
   "source": [
    "df_seasons = df_seasons.drop_duplicates(subset='league_id', keep='first', ignore_index=True)"
   ]
  },
  {
   "cell_type": "code",
   "execution_count": 62,
   "id": "8a0c2452-fa95-42e5-b871-2f2d08a0b87e",
   "metadata": {},
   "outputs": [
    {
     "data": {
      "text/html": [
       "<div>\n",
       "<style scoped>\n",
       "    .dataframe tbody tr th:only-of-type {\n",
       "        vertical-align: middle;\n",
       "    }\n",
       "\n",
       "    .dataframe tbody tr th {\n",
       "        vertical-align: top;\n",
       "    }\n",
       "\n",
       "    .dataframe thead th {\n",
       "        text-align: right;\n",
       "    }\n",
       "</style>\n",
       "<table border=\"1\" class=\"dataframe\">\n",
       "  <thead>\n",
       "    <tr style=\"text-align: right;\">\n",
       "      <th></th>\n",
       "      <th>league_id</th>\n",
       "      <th>season</th>\n",
       "      <th>season_start_date</th>\n",
       "      <th>season_end_date</th>\n",
       "    </tr>\n",
       "  </thead>\n",
       "  <tbody>\n",
       "    <tr>\n",
       "      <th>0</th>\n",
       "      <td>2021</td>\n",
       "      <td>2023</td>\n",
       "      <td>2023-08-11</td>\n",
       "      <td>2024-05-19</td>\n",
       "    </tr>\n",
       "    <tr>\n",
       "      <th>1</th>\n",
       "      <td>2002</td>\n",
       "      <td>2023</td>\n",
       "      <td>2023-08-18</td>\n",
       "      <td>2024-05-18</td>\n",
       "    </tr>\n",
       "    <tr>\n",
       "      <th>2</th>\n",
       "      <td>2015</td>\n",
       "      <td>2023</td>\n",
       "      <td>2023-08-13</td>\n",
       "      <td>2024-05-18</td>\n",
       "    </tr>\n",
       "    <tr>\n",
       "      <th>3</th>\n",
       "      <td>2014</td>\n",
       "      <td>2023</td>\n",
       "      <td>2023-08-13</td>\n",
       "      <td>2024-05-26</td>\n",
       "    </tr>\n",
       "    <tr>\n",
       "      <th>4</th>\n",
       "      <td>2019</td>\n",
       "      <td>2023</td>\n",
       "      <td>2023-08-19</td>\n",
       "      <td>2024-05-26</td>\n",
       "    </tr>\n",
       "  </tbody>\n",
       "</table>\n",
       "</div>"
      ],
      "text/plain": [
       "   league_id  season season_start_date season_end_date\n",
       "0       2021    2023        2023-08-11      2024-05-19\n",
       "1       2002    2023        2023-08-18      2024-05-18\n",
       "2       2015    2023        2023-08-13      2024-05-18\n",
       "3       2014    2023        2023-08-13      2024-05-26\n",
       "4       2019    2023        2023-08-19      2024-05-26"
      ]
     },
     "execution_count": 62,
     "metadata": {},
     "output_type": "execute_result"
    }
   ],
   "source": [
    "df_seasons"
   ]
  }
 ],
 "metadata": {
  "kernelspec": {
   "display_name": "Python 3 (ipykernel)",
   "language": "python",
   "name": "python3"
  },
  "language_info": {
   "codemirror_mode": {
    "name": "ipython",
    "version": 3
   },
   "file_extension": ".py",
   "mimetype": "text/x-python",
   "name": "python",
   "nbconvert_exporter": "python",
   "pygments_lexer": "ipython3",
   "version": "3.10.13"
  }
 },
 "nbformat": 4,
 "nbformat_minor": 5
}
