{
 "cells": [
  {
   "cell_type": "code",
   "execution_count": 73,
   "id": "644e842f-5395-4b76-b4ab-e2185972eac3",
   "metadata": {},
   "outputs": [],
   "source": [
    "import os\n",
    "import json\n",
    "import pandas as pd"
   ]
  },
  {
   "cell_type": "code",
   "execution_count": 2,
   "id": "f1792f08-6e3c-415a-988a-07de6c8ce01b",
   "metadata": {},
   "outputs": [],
   "source": [
    "def get_keys(path):\n",
    "    with open(path) as f:\n",
    "        return json.load(f)"
   ]
  },
  {
   "cell_type": "code",
   "execution_count": 3,
   "id": "e931d3e9-a97c-44f9-b2fa-204db022c5f0",
   "metadata": {},
   "outputs": [
    {
     "data": {
      "text/plain": [
       "'/workspaces/data-engineering-capstone/notebook'"
      ]
     },
     "execution_count": 3,
     "metadata": {},
     "output_type": "execute_result"
    }
   ],
   "source": [
    "pwd"
   ]
  },
  {
   "cell_type": "code",
   "execution_count": 9,
   "id": "bf6e3425-3fb6-4a36-a5dc-ab0918d96130",
   "metadata": {},
   "outputs": [],
   "source": [
    "uri = \"../temp/matches.json\""
   ]
  },
  {
   "cell_type": "code",
   "execution_count": 7,
   "id": "86f93a4b-a794-4c69-a20d-0ae40828ec98",
   "metadata": {},
   "outputs": [
    {
     "data": {
      "text/plain": [
       "True"
      ]
     },
     "execution_count": 7,
     "metadata": {},
     "output_type": "execute_result"
    }
   ],
   "source": [
    "os.path.exists(uri)"
   ]
  },
  {
   "cell_type": "code",
   "execution_count": 12,
   "id": "a75a559a-5ec9-400f-b4b2-d6de68292889",
   "metadata": {},
   "outputs": [],
   "source": [
    "with open(uri) as file:\n",
    "    data = json.load(file)"
   ]
  },
  {
   "cell_type": "code",
   "execution_count": 65,
   "id": "6c24ab84-288c-43c5-a374-da610fb13527",
   "metadata": {},
   "outputs": [],
   "source": [
    "# keys = data['Premier League'][0].keys()\n",
    "# keys"
   ]
  },
  {
   "cell_type": "code",
   "execution_count": 26,
   "id": "f20e2cf7-66eb-4538-83dd-42845366a9af",
   "metadata": {},
   "outputs": [],
   "source": [
    "pl_data = data['Premier League'][0]"
   ]
  },
  {
   "cell_type": "code",
   "execution_count": 68,
   "id": "c4697df8-4012-436e-ab16-032180f80e63",
   "metadata": {},
   "outputs": [],
   "source": [
    "# To get data of second matchday\n",
    "# data['Premier League'][1]"
   ]
  },
  {
   "cell_type": "code",
   "execution_count": 30,
   "id": "94cb4444-a584-4b96-ac75-6c4c1a485b53",
   "metadata": {},
   "outputs": [
    {
     "data": {
      "text/plain": [
       "2023"
      ]
     },
     "execution_count": 30,
     "metadata": {},
     "output_type": "execute_result"
    }
   ],
   "source": [
    "season = int(pl_data['filters']['season'])\n",
    "season"
   ]
  },
  {
   "cell_type": "code",
   "execution_count": 33,
   "id": "07458b4d-db92-4056-8763-b942726313c3",
   "metadata": {},
   "outputs": [
    {
     "data": {
      "text/plain": [
       "1"
      ]
     },
     "execution_count": 33,
     "metadata": {},
     "output_type": "execute_result"
    }
   ],
   "source": [
    "matchday = int(pl_data['filters']['matchday'])\n",
    "matchday"
   ]
  },
  {
   "cell_type": "code",
   "execution_count": 66,
   "id": "9bf40fce-59c6-40c6-8efb-5a9c205f41ee",
   "metadata": {},
   "outputs": [],
   "source": [
    "# pl_data['resultSet']"
   ]
  },
  {
   "cell_type": "markdown",
   "id": "caa821f9-176c-4af1-9a6e-f33abff9b814",
   "metadata": {},
   "source": [
    "##### FIRST_MATCHDAY = pl_data['resultSet']['first']\n",
    "##### LAST_MATCHDAY = pl_data['resultSet']['last']\n",
    "\n",
    "##### FIRST_MATCHDAY, LAST_MATCHDAY"
   ]
  },
  {
   "cell_type": "code",
   "execution_count": 39,
   "id": "c8a04c08-2175-4ca6-a2f1-b36280dfd69c",
   "metadata": {},
   "outputs": [
    {
     "data": {
      "text/plain": [
       "2021"
      ]
     },
     "execution_count": 39,
     "metadata": {},
     "output_type": "execute_result"
    }
   ],
   "source": [
    "LEAGUE_ID = pl_data['competition']['id']\n",
    "\n",
    "LEAGUE_ID"
   ]
  },
  {
   "cell_type": "code",
   "execution_count": 63,
   "id": "ca57d6a2-2531-4fe7-b997-3d09576fef64",
   "metadata": {},
   "outputs": [],
   "source": [
    "# pl_data['matches']"
   ]
  },
  {
   "cell_type": "code",
   "execution_count": 62,
   "id": "dd749201-517a-4c63-9fa5-257ae87b880a",
   "metadata": {
    "scrolled": true
   },
   "outputs": [],
   "source": [
    "# pl_data['matches'][0]"
   ]
  },
  {
   "cell_type": "code",
   "execution_count": 64,
   "id": "3a0f9e52-72a2-4f5a-aa4b-678f789a81a1",
   "metadata": {},
   "outputs": [],
   "source": [
    "# pl_data['matches'][0].keys()"
   ]
  },
  {
   "cell_type": "code",
   "execution_count": 46,
   "id": "20b0e895-a1f5-4a27-a4ad-e28df80680fb",
   "metadata": {},
   "outputs": [
    {
     "data": {
      "text/plain": [
       "('2023-08-11', '2024-05-19')"
      ]
     },
     "execution_count": 46,
     "metadata": {},
     "output_type": "execute_result"
    }
   ],
   "source": [
    "FIRST_MATCHDAY = pl_data['matches'][0]['season']['startDate']\n",
    "LAST_MATCHDAY = pl_data['matches'][0]['season']['endDate']\n",
    "FIRST_MATCHDAY, LAST_MATCHDAY"
   ]
  },
  {
   "cell_type": "code",
   "execution_count": 47,
   "id": "f005105a-7620-4f5a-89f2-6be94beb5b58",
   "metadata": {},
   "outputs": [
    {
     "data": {
      "text/plain": [
       "435943"
      ]
     },
     "execution_count": 47,
     "metadata": {},
     "output_type": "execute_result"
    }
   ],
   "source": [
    "match_id = pl_data['matches'][0]['id']\n",
    "\n",
    "match_id"
   ]
  },
  {
   "cell_type": "code",
   "execution_count": 49,
   "id": "54753fa3-672a-4244-ad8d-92a0e3bcc523",
   "metadata": {},
   "outputs": [
    {
     "data": {
      "text/plain": [
       "'2023-08-11T19:00:00Z'"
      ]
     },
     "execution_count": 49,
     "metadata": {},
     "output_type": "execute_result"
    }
   ],
   "source": [
    "matchdate = pl_data['matches'][0]['utcDate']\n",
    "matchdate"
   ]
  },
  {
   "cell_type": "code",
   "execution_count": 54,
   "id": "ceb88896-f702-4fea-b98e-e93b4a328be9",
   "metadata": {},
   "outputs": [
    {
     "data": {
      "text/plain": [
       "'Burnley'"
      ]
     },
     "execution_count": 54,
     "metadata": {},
     "output_type": "execute_result"
    }
   ],
   "source": [
    "home_team = pl_data['matches'][0]['homeTeam']['shortName']\n",
    "home_team"
   ]
  },
  {
   "cell_type": "code",
   "execution_count": 55,
   "id": "48066b69-2eee-485e-990e-f7f4fc414edb",
   "metadata": {},
   "outputs": [
    {
     "data": {
      "text/plain": [
       "'Man City'"
      ]
     },
     "execution_count": 55,
     "metadata": {},
     "output_type": "execute_result"
    }
   ],
   "source": [
    "away_team = pl_data['matches'][0]['awayTeam']['shortName']\n",
    "away_team"
   ]
  },
  {
   "cell_type": "code",
   "execution_count": 56,
   "id": "7092e0b3-c861-4544-a6ab-1a350c0612b3",
   "metadata": {},
   "outputs": [
    {
     "data": {
      "text/plain": [
       "0"
      ]
     },
     "execution_count": 56,
     "metadata": {},
     "output_type": "execute_result"
    }
   ],
   "source": [
    "home_score = pl_data['matches'][0]['score']['fullTime']['home']\n",
    "home_score"
   ]
  },
  {
   "cell_type": "code",
   "execution_count": 57,
   "id": "bb268a95-67ab-4375-a317-65a9ef00587f",
   "metadata": {},
   "outputs": [
    {
     "data": {
      "text/plain": [
       "3"
      ]
     },
     "execution_count": 57,
     "metadata": {},
     "output_type": "execute_result"
    }
   ],
   "source": [
    "away_score = pl_data['matches'][0]['score']['fullTime']['away']\n",
    "away_score"
   ]
  },
  {
   "cell_type": "code",
   "execution_count": 86,
   "id": "f852f001-3ce3-4b1d-8650-32155f9b19ec",
   "metadata": {},
   "outputs": [],
   "source": [
    "def get_match_points(home_score: int, away_score: int) -> tuple[int, int]:\n",
    "\n",
    "    if home_score == away_score:\n",
    "        home_team_points, away_team_points = 1, 1\n",
    "    elif home_score > away_score:\n",
    "        home_team_points = 3\n",
    "        away_team_points = 0\n",
    "    else:\n",
    "        home_team_points = 0\n",
    "        away_team_points = 3\n",
    "    \n",
    "    return home_team_points, away_team_points "
   ]
  },
  {
   "cell_type": "code",
   "execution_count": 87,
   "id": "15d02d30-b667-4710-92fa-f962e919415b",
   "metadata": {},
   "outputs": [],
   "source": [
    "def get_goal_difference(home_score: int, away_score: int) -> tuple[int, int]:\n",
    "    home_gd = home_score - away_score\n",
    "\n",
    "    return home_gd, -home_gd"
   ]
  },
  {
   "cell_type": "code",
   "execution_count": 61,
   "id": "78e685e0-dd55-4a0d-8361-e785f6d9a92a",
   "metadata": {},
   "outputs": [
    {
     "data": {
      "text/plain": [
       "'Craig Pawson'"
      ]
     },
     "execution_count": 61,
     "metadata": {},
     "output_type": "execute_result"
    }
   ],
   "source": [
    "match_referee = pl_data['matches'][0]['referees'][0]['name']\n",
    "match_referee"
   ]
  },
  {
   "cell_type": "code",
   "execution_count": 95,
   "id": "87f9965c-4d80-4759-83bd-81f22f2798ab",
   "metadata": {},
   "outputs": [],
   "source": [
    "leagues = {'Premier League': [38, 10], \n",
    "          'Bundesliga': [34, 9], \n",
    "          'Ligue 1': [38, 10], \n",
    "          'La Liga': [38, 10], \n",
    "          'Serie A': [38, 10]}"
   ]
  },
  {
   "cell_type": "code",
   "execution_count": 94,
   "id": "0b3bf934-6464-433a-91e1-d9b1b8cdfd8c",
   "metadata": {},
   "outputs": [],
   "source": [
    "columns = ['league', 'season', 'league_id', 'season_start_date', 'season_end_date', \n",
    "           'matchday', 'match_id', 'match_date', 'home_team', 'away_team', \n",
    "           'home_score', 'away_score', 'home_team_points_earned', 'away_team_points_earned', \n",
    "           'home_team_gd', 'away_team_gd', 'match_referee']\n",
    "\n",
    "df = pd.DataFrame(columns = columns)"
   ]
  },
  {
   "cell_type": "code",
   "execution_count": 98,
   "id": "a425e9ff-add8-4779-91b4-ec174b5ed16e",
   "metadata": {},
   "outputs": [
    {
     "ename": "IndexError",
     "evalue": "list index out of range",
     "output_type": "error",
     "traceback": [
      "\u001b[0;31m---------------------------------------------------------------------------\u001b[0m",
      "\u001b[0;31mIndexError\u001b[0m                                Traceback (most recent call last)",
      "Cell \u001b[0;32mIn[98], line 17\u001b[0m\n\u001b[1;32m     14\u001b[0m matchday \u001b[38;5;241m=\u001b[39m \u001b[38;5;28mint\u001b[39m(pl_data[\u001b[38;5;124m'\u001b[39m\u001b[38;5;124mfilters\u001b[39m\u001b[38;5;124m'\u001b[39m][\u001b[38;5;124m'\u001b[39m\u001b[38;5;124mmatchday\u001b[39m\u001b[38;5;124m'\u001b[39m])\n\u001b[1;32m     16\u001b[0m \u001b[38;5;28;01mfor\u001b[39;00m match_num \u001b[38;5;129;01min\u001b[39;00m \u001b[38;5;28mrange\u001b[39m(\u001b[38;5;241m0\u001b[39m, total_matchdays[\u001b[38;5;241m1\u001b[39m]):\n\u001b[0;32m---> 17\u001b[0m     match_data \u001b[38;5;241m=\u001b[39m \u001b[43mpl_data\u001b[49m\u001b[43m[\u001b[49m\u001b[38;5;124;43m'\u001b[39;49m\u001b[38;5;124;43mmatches\u001b[39;49m\u001b[38;5;124;43m'\u001b[39;49m\u001b[43m]\u001b[49m\u001b[43m[\u001b[49m\u001b[43mmatch_num\u001b[49m\u001b[43m]\u001b[49m\n\u001b[1;32m     18\u001b[0m     match_id \u001b[38;5;241m=\u001b[39m match_data[\u001b[38;5;124m'\u001b[39m\u001b[38;5;124mid\u001b[39m\u001b[38;5;124m'\u001b[39m]\n\u001b[1;32m     19\u001b[0m     matchdate \u001b[38;5;241m=\u001b[39m match_data[\u001b[38;5;124m'\u001b[39m\u001b[38;5;124mutcDate\u001b[39m\u001b[38;5;124m'\u001b[39m]\n",
      "\u001b[0;31mIndexError\u001b[0m: list index out of range"
     ]
    }
   ],
   "source": [
    "for league, total_matchdays in leagues.items():\n",
    "\n",
    "    # Get Season, League_id, first and last matchday dates only once as that is a constant\n",
    "    firstday_data = data[league][0]\n",
    "    SEASON = int(firstday_data['filters']['season'])\n",
    "    LEAGUE_ID = firstday_data['competition']['id']\n",
    "    FIRST_MATCHDAY = firstday_data['matches'][0]['season']['startDate']\n",
    "    LAST_MATCHDAY = firstday_data['matches'][0]['season']['endDate']\n",
    "    \n",
    "    # Also need to consider status\n",
    "    for mday in range(0, total_matchdays[0]):\n",
    "        pl_data = data[league][mday]\n",
    "        \n",
    "        matchday = int(pl_data['filters']['matchday'])\n",
    "    \n",
    "        for match_num in range(0, total_matchdays[1]):\n",
    "            match_data = pl_data['matches'][match_num]\n",
    "            match_id = match_data['id']\n",
    "            matchdate = match_data['utcDate']\n",
    "            home_team = match_data['homeTeam']['shortName']\n",
    "            away_team = match_data['awayTeam']['shortName']\n",
    "            home_score = match_data['score']['fullTime']['home']\n",
    "            away_score = match_data['score']['fullTime']['away']\n",
    "                  \n",
    "            try:\n",
    "                match_referee = match_data['referees'][0]['name']\n",
    "            except IndexError:\n",
    "                match_referee = ''\n",
    "            \n",
    "            home_team_points, away_team_points = get_match_points(home_score=home_score, away_score=away_score)\n",
    "            \n",
    "            try:\n",
    "                home_team_gd, away_team_gd = get_goal_difference(home_score=home_score, away_score=away_score)\n",
    "            except TypeError:\n",
    "                home_team_gd, away_team_gd = None, None\n",
    "                \n",
    "            df.loc[len(df.index)] = [league, SEASON, LEAGUE_ID, FIRST_MATCHDAY, LAST_MATCHDAY, \n",
    "                                     matchday, match_id, matchdate, home_team, away_team, \n",
    "                                     home_score, away_score, home_team_points, away_team_points, \n",
    "                                     home_team_gd, away_team_gd, match_referee]"
   ]
  },
  {
   "cell_type": "code",
   "execution_count": 79,
   "id": "df85ae84-557c-4a06-befe-252d7422c6d0",
   "metadata": {},
   "outputs": [
    {
     "ename": "IndexError",
     "evalue": "list index out of range",
     "output_type": "error",
     "traceback": [
      "\u001b[0;31m---------------------------------------------------------------------------\u001b[0m",
      "\u001b[0;31mIndexError\u001b[0m                                Traceback (most recent call last)",
      "Cell \u001b[0;32mIn[79], line 1\u001b[0m\n\u001b[0;32m----> 1\u001b[0m \u001b[43mpl_data\u001b[49m\u001b[43m[\u001b[49m\u001b[38;5;124;43m'\u001b[39;49m\u001b[38;5;124;43mmatches\u001b[39;49m\u001b[38;5;124;43m'\u001b[39;49m\u001b[43m]\u001b[49m\u001b[43m[\u001b[49m\u001b[38;5;241;43m10\u001b[39;49m\u001b[43m]\u001b[49m[\u001b[38;5;124m'\u001b[39m\u001b[38;5;124mreferees\u001b[39m\u001b[38;5;124m'\u001b[39m]\n",
      "\u001b[0;31mIndexError\u001b[0m: list index out of range"
     ]
    }
   ],
   "source": [
    "pl_data['matches'][10]['referees']"
   ]
  },
  {
   "cell_type": "code",
   "execution_count": 90,
   "id": "8b23f98e-6c6c-4b8c-977a-274787030fc1",
   "metadata": {},
   "outputs": [
    {
     "data": {
      "text/html": [
       "<div>\n",
       "<style scoped>\n",
       "    .dataframe tbody tr th:only-of-type {\n",
       "        vertical-align: middle;\n",
       "    }\n",
       "\n",
       "    .dataframe tbody tr th {\n",
       "        vertical-align: top;\n",
       "    }\n",
       "\n",
       "    .dataframe thead th {\n",
       "        text-align: right;\n",
       "    }\n",
       "</style>\n",
       "<table border=\"1\" class=\"dataframe\">\n",
       "  <thead>\n",
       "    <tr style=\"text-align: right;\">\n",
       "      <th></th>\n",
       "      <th>0</th>\n",
       "      <th>1</th>\n",
       "      <th>2</th>\n",
       "      <th>3</th>\n",
       "      <th>4</th>\n",
       "      <th>5</th>\n",
       "      <th>6</th>\n",
       "      <th>7</th>\n",
       "      <th>8</th>\n",
       "      <th>9</th>\n",
       "    </tr>\n",
       "  </thead>\n",
       "  <tbody>\n",
       "    <tr>\n",
       "      <th>season</th>\n",
       "      <td>2023</td>\n",
       "      <td>2023</td>\n",
       "      <td>2023</td>\n",
       "      <td>2023</td>\n",
       "      <td>2023</td>\n",
       "      <td>2023</td>\n",
       "      <td>2023</td>\n",
       "      <td>2023</td>\n",
       "      <td>2023</td>\n",
       "      <td>2023</td>\n",
       "    </tr>\n",
       "    <tr>\n",
       "      <th>league_id</th>\n",
       "      <td>2021</td>\n",
       "      <td>2021</td>\n",
       "      <td>2021</td>\n",
       "      <td>2021</td>\n",
       "      <td>2021</td>\n",
       "      <td>2021</td>\n",
       "      <td>2021</td>\n",
       "      <td>2021</td>\n",
       "      <td>2021</td>\n",
       "      <td>2021</td>\n",
       "    </tr>\n",
       "    <tr>\n",
       "      <th>season_start_date</th>\n",
       "      <td>2023-08-11</td>\n",
       "      <td>2023-08-11</td>\n",
       "      <td>2023-08-11</td>\n",
       "      <td>2023-08-11</td>\n",
       "      <td>2023-08-11</td>\n",
       "      <td>2023-08-11</td>\n",
       "      <td>2023-08-11</td>\n",
       "      <td>2023-08-11</td>\n",
       "      <td>2023-08-11</td>\n",
       "      <td>2023-08-11</td>\n",
       "    </tr>\n",
       "    <tr>\n",
       "      <th>season_end_date</th>\n",
       "      <td>2024-05-19</td>\n",
       "      <td>2024-05-19</td>\n",
       "      <td>2024-05-19</td>\n",
       "      <td>2024-05-19</td>\n",
       "      <td>2024-05-19</td>\n",
       "      <td>2024-05-19</td>\n",
       "      <td>2024-05-19</td>\n",
       "      <td>2024-05-19</td>\n",
       "      <td>2024-05-19</td>\n",
       "      <td>2024-05-19</td>\n",
       "    </tr>\n",
       "    <tr>\n",
       "      <th>matchday</th>\n",
       "      <td>1</td>\n",
       "      <td>1</td>\n",
       "      <td>1</td>\n",
       "      <td>1</td>\n",
       "      <td>1</td>\n",
       "      <td>1</td>\n",
       "      <td>1</td>\n",
       "      <td>1</td>\n",
       "      <td>1</td>\n",
       "      <td>1</td>\n",
       "    </tr>\n",
       "    <tr>\n",
       "      <th>match_id</th>\n",
       "      <td>435943</td>\n",
       "      <td>435944</td>\n",
       "      <td>435945</td>\n",
       "      <td>435946</td>\n",
       "      <td>435947</td>\n",
       "      <td>435948</td>\n",
       "      <td>435949</td>\n",
       "      <td>435950</td>\n",
       "      <td>435951</td>\n",
       "      <td>435952</td>\n",
       "    </tr>\n",
       "    <tr>\n",
       "      <th>match_date</th>\n",
       "      <td>2023-08-11T19:00:00Z</td>\n",
       "      <td>2023-08-12T12:00:00Z</td>\n",
       "      <td>2023-08-12T14:00:00Z</td>\n",
       "      <td>2023-08-12T14:00:00Z</td>\n",
       "      <td>2023-08-12T14:00:00Z</td>\n",
       "      <td>2023-08-12T14:00:00Z</td>\n",
       "      <td>2023-08-12T16:30:00Z</td>\n",
       "      <td>2023-08-13T13:00:00Z</td>\n",
       "      <td>2023-08-13T15:30:00Z</td>\n",
       "      <td>2023-08-14T19:00:00Z</td>\n",
       "    </tr>\n",
       "    <tr>\n",
       "      <th>home_team</th>\n",
       "      <td>Burnley</td>\n",
       "      <td>Arsenal</td>\n",
       "      <td>Bournemouth</td>\n",
       "      <td>Brighton Hove</td>\n",
       "      <td>Everton</td>\n",
       "      <td>Sheffield Utd</td>\n",
       "      <td>Newcastle</td>\n",
       "      <td>Brentford</td>\n",
       "      <td>Chelsea</td>\n",
       "      <td>Man United</td>\n",
       "    </tr>\n",
       "    <tr>\n",
       "      <th>away_team</th>\n",
       "      <td>Man City</td>\n",
       "      <td>Nottingham</td>\n",
       "      <td>West Ham</td>\n",
       "      <td>Luton Town</td>\n",
       "      <td>Fulham</td>\n",
       "      <td>Crystal Palace</td>\n",
       "      <td>Aston Villa</td>\n",
       "      <td>Tottenham</td>\n",
       "      <td>Liverpool</td>\n",
       "      <td>Wolverhampton</td>\n",
       "    </tr>\n",
       "    <tr>\n",
       "      <th>home_score</th>\n",
       "      <td>0</td>\n",
       "      <td>2</td>\n",
       "      <td>1</td>\n",
       "      <td>4</td>\n",
       "      <td>0</td>\n",
       "      <td>0</td>\n",
       "      <td>5</td>\n",
       "      <td>2</td>\n",
       "      <td>1</td>\n",
       "      <td>1</td>\n",
       "    </tr>\n",
       "    <tr>\n",
       "      <th>away_score</th>\n",
       "      <td>3</td>\n",
       "      <td>1</td>\n",
       "      <td>1</td>\n",
       "      <td>1</td>\n",
       "      <td>1</td>\n",
       "      <td>1</td>\n",
       "      <td>1</td>\n",
       "      <td>2</td>\n",
       "      <td>1</td>\n",
       "      <td>0</td>\n",
       "    </tr>\n",
       "    <tr>\n",
       "      <th>home_team_points_earned</th>\n",
       "      <td>0</td>\n",
       "      <td>3</td>\n",
       "      <td>1</td>\n",
       "      <td>3</td>\n",
       "      <td>0</td>\n",
       "      <td>0</td>\n",
       "      <td>3</td>\n",
       "      <td>1</td>\n",
       "      <td>1</td>\n",
       "      <td>3</td>\n",
       "    </tr>\n",
       "    <tr>\n",
       "      <th>away_team_points_earned</th>\n",
       "      <td>3</td>\n",
       "      <td>0</td>\n",
       "      <td>1</td>\n",
       "      <td>0</td>\n",
       "      <td>3</td>\n",
       "      <td>3</td>\n",
       "      <td>0</td>\n",
       "      <td>1</td>\n",
       "      <td>1</td>\n",
       "      <td>0</td>\n",
       "    </tr>\n",
       "    <tr>\n",
       "      <th>home_team_gd</th>\n",
       "      <td>-3</td>\n",
       "      <td>1</td>\n",
       "      <td>0</td>\n",
       "      <td>3</td>\n",
       "      <td>-1</td>\n",
       "      <td>-1</td>\n",
       "      <td>4</td>\n",
       "      <td>0</td>\n",
       "      <td>0</td>\n",
       "      <td>1</td>\n",
       "    </tr>\n",
       "    <tr>\n",
       "      <th>away_team_gd</th>\n",
       "      <td>3</td>\n",
       "      <td>-1</td>\n",
       "      <td>0</td>\n",
       "      <td>-3</td>\n",
       "      <td>1</td>\n",
       "      <td>1</td>\n",
       "      <td>-4</td>\n",
       "      <td>0</td>\n",
       "      <td>0</td>\n",
       "      <td>-1</td>\n",
       "    </tr>\n",
       "    <tr>\n",
       "      <th>match_referee</th>\n",
       "      <td>Craig Pawson</td>\n",
       "      <td>Michael Oliver</td>\n",
       "      <td>Peter Bankes</td>\n",
       "      <td>David Coote</td>\n",
       "      <td>Stuart Attwell</td>\n",
       "      <td>John Brooks</td>\n",
       "      <td>Andy Madley</td>\n",
       "      <td>Robert Jones</td>\n",
       "      <td>Anthony Taylor</td>\n",
       "      <td>Simon Hooper</td>\n",
       "    </tr>\n",
       "  </tbody>\n",
       "</table>\n",
       "</div>"
      ],
      "text/plain": [
       "                                            0                     1  \\\n",
       "season                                   2023                  2023   \n",
       "league_id                                2021                  2021   \n",
       "season_start_date                  2023-08-11            2023-08-11   \n",
       "season_end_date                    2024-05-19            2024-05-19   \n",
       "matchday                                    1                     1   \n",
       "match_id                               435943                435944   \n",
       "match_date               2023-08-11T19:00:00Z  2023-08-12T12:00:00Z   \n",
       "home_team                             Burnley               Arsenal   \n",
       "away_team                            Man City            Nottingham   \n",
       "home_score                                  0                     2   \n",
       "away_score                                  3                     1   \n",
       "home_team_points_earned                     0                     3   \n",
       "away_team_points_earned                     3                     0   \n",
       "home_team_gd                               -3                     1   \n",
       "away_team_gd                                3                    -1   \n",
       "match_referee                    Craig Pawson        Michael Oliver   \n",
       "\n",
       "                                            2                     3  \\\n",
       "season                                   2023                  2023   \n",
       "league_id                                2021                  2021   \n",
       "season_start_date                  2023-08-11            2023-08-11   \n",
       "season_end_date                    2024-05-19            2024-05-19   \n",
       "matchday                                    1                     1   \n",
       "match_id                               435945                435946   \n",
       "match_date               2023-08-12T14:00:00Z  2023-08-12T14:00:00Z   \n",
       "home_team                         Bournemouth         Brighton Hove   \n",
       "away_team                            West Ham            Luton Town   \n",
       "home_score                                  1                     4   \n",
       "away_score                                  1                     1   \n",
       "home_team_points_earned                     1                     3   \n",
       "away_team_points_earned                     1                     0   \n",
       "home_team_gd                                0                     3   \n",
       "away_team_gd                                0                    -3   \n",
       "match_referee                    Peter Bankes           David Coote   \n",
       "\n",
       "                                            4                     5  \\\n",
       "season                                   2023                  2023   \n",
       "league_id                                2021                  2021   \n",
       "season_start_date                  2023-08-11            2023-08-11   \n",
       "season_end_date                    2024-05-19            2024-05-19   \n",
       "matchday                                    1                     1   \n",
       "match_id                               435947                435948   \n",
       "match_date               2023-08-12T14:00:00Z  2023-08-12T14:00:00Z   \n",
       "home_team                             Everton         Sheffield Utd   \n",
       "away_team                              Fulham        Crystal Palace   \n",
       "home_score                                  0                     0   \n",
       "away_score                                  1                     1   \n",
       "home_team_points_earned                     0                     0   \n",
       "away_team_points_earned                     3                     3   \n",
       "home_team_gd                               -1                    -1   \n",
       "away_team_gd                                1                     1   \n",
       "match_referee                  Stuart Attwell           John Brooks   \n",
       "\n",
       "                                            6                     7  \\\n",
       "season                                   2023                  2023   \n",
       "league_id                                2021                  2021   \n",
       "season_start_date                  2023-08-11            2023-08-11   \n",
       "season_end_date                    2024-05-19            2024-05-19   \n",
       "matchday                                    1                     1   \n",
       "match_id                               435949                435950   \n",
       "match_date               2023-08-12T16:30:00Z  2023-08-13T13:00:00Z   \n",
       "home_team                           Newcastle             Brentford   \n",
       "away_team                         Aston Villa             Tottenham   \n",
       "home_score                                  5                     2   \n",
       "away_score                                  1                     2   \n",
       "home_team_points_earned                     3                     1   \n",
       "away_team_points_earned                     0                     1   \n",
       "home_team_gd                                4                     0   \n",
       "away_team_gd                               -4                     0   \n",
       "match_referee                     Andy Madley          Robert Jones   \n",
       "\n",
       "                                            8                     9  \n",
       "season                                   2023                  2023  \n",
       "league_id                                2021                  2021  \n",
       "season_start_date                  2023-08-11            2023-08-11  \n",
       "season_end_date                    2024-05-19            2024-05-19  \n",
       "matchday                                    1                     1  \n",
       "match_id                               435951                435952  \n",
       "match_date               2023-08-13T15:30:00Z  2023-08-14T19:00:00Z  \n",
       "home_team                             Chelsea            Man United  \n",
       "away_team                           Liverpool         Wolverhampton  \n",
       "home_score                                  1                     1  \n",
       "away_score                                  1                     0  \n",
       "home_team_points_earned                     1                     3  \n",
       "away_team_points_earned                     1                     0  \n",
       "home_team_gd                                0                     1  \n",
       "away_team_gd                                0                    -1  \n",
       "match_referee                  Anthony Taylor          Simon Hooper  "
      ]
     },
     "execution_count": 90,
     "metadata": {},
     "output_type": "execute_result"
    }
   ],
   "source": [
    "df.head(10).T"
   ]
  },
  {
   "cell_type": "code",
   "execution_count": null,
   "id": "30e0b561-81a1-478a-bb28-40c94d05b3ef",
   "metadata": {},
   "outputs": [],
   "source": []
  }
 ],
 "metadata": {
  "kernelspec": {
   "display_name": "Python 3 (ipykernel)",
   "language": "python",
   "name": "python3"
  },
  "language_info": {
   "codemirror_mode": {
    "name": "ipython",
    "version": 3
   },
   "file_extension": ".py",
   "mimetype": "text/x-python",
   "name": "python",
   "nbconvert_exporter": "python",
   "pygments_lexer": "ipython3",
   "version": "3.10.13"
  }
 },
 "nbformat": 4,
 "nbformat_minor": 5
}
