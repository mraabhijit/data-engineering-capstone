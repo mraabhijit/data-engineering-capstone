{
 "cells": [
  {
   "cell_type": "code",
   "execution_count": 1,
   "id": "644e842f-5395-4b76-b4ab-e2185972eac3",
   "metadata": {},
   "outputs": [],
   "source": [
    "import os\n",
    "import json\n",
    "import pandas as pd"
   ]
  },
  {
   "cell_type": "code",
   "execution_count": 2,
   "id": "bf6e3425-3fb6-4a36-a5dc-ab0918d96130",
   "metadata": {},
   "outputs": [],
   "source": [
    "uri = \"../temp/matches.json\""
   ]
  },
  {
   "cell_type": "code",
   "execution_count": 3,
   "id": "86f93a4b-a794-4c69-a20d-0ae40828ec98",
   "metadata": {},
   "outputs": [
    {
     "data": {
      "text/plain": [
       "True"
      ]
     },
     "execution_count": 3,
     "metadata": {},
     "output_type": "execute_result"
    }
   ],
   "source": [
    "os.path.exists(uri)"
   ]
  },
  {
   "cell_type": "code",
   "execution_count": 4,
   "id": "a75a559a-5ec9-400f-b4b2-d6de68292889",
   "metadata": {},
   "outputs": [],
   "source": [
    "with open(uri) as file:\n",
    "    data = json.load(file)"
   ]
  },
  {
   "cell_type": "code",
   "execution_count": 5,
   "id": "6c24ab84-288c-43c5-a374-da610fb13527",
   "metadata": {},
   "outputs": [],
   "source": [
    "# keys = data['Premier League'][0].keys()\n",
    "# keys"
   ]
  },
  {
   "cell_type": "code",
   "execution_count": 6,
   "id": "f20e2cf7-66eb-4538-83dd-42845366a9af",
   "metadata": {},
   "outputs": [],
   "source": [
    "pl_data = data['Premier League'][0]"
   ]
  },
  {
   "cell_type": "code",
   "execution_count": 7,
   "id": "c4697df8-4012-436e-ab16-032180f80e63",
   "metadata": {},
   "outputs": [],
   "source": [
    "# To get data of second matchday\n",
    "# data['Premier League'][1]"
   ]
  },
  {
   "cell_type": "code",
   "execution_count": 8,
   "id": "94cb4444-a584-4b96-ac75-6c4c1a485b53",
   "metadata": {},
   "outputs": [
    {
     "data": {
      "text/plain": [
       "2023"
      ]
     },
     "execution_count": 8,
     "metadata": {},
     "output_type": "execute_result"
    }
   ],
   "source": [
    "season = int(pl_data['filters']['season'])\n",
    "season"
   ]
  },
  {
   "cell_type": "code",
   "execution_count": 9,
   "id": "07458b4d-db92-4056-8763-b942726313c3",
   "metadata": {},
   "outputs": [
    {
     "data": {
      "text/plain": [
       "1"
      ]
     },
     "execution_count": 9,
     "metadata": {},
     "output_type": "execute_result"
    }
   ],
   "source": [
    "matchday = int(pl_data['filters']['matchday'])\n",
    "matchday"
   ]
  },
  {
   "cell_type": "code",
   "execution_count": 10,
   "id": "9bf40fce-59c6-40c6-8efb-5a9c205f41ee",
   "metadata": {},
   "outputs": [],
   "source": [
    "# pl_data['resultSet']"
   ]
  },
  {
   "cell_type": "markdown",
   "id": "caa821f9-176c-4af1-9a6e-f33abff9b814",
   "metadata": {},
   "source": [
    "##### FIRST_MATCHDAY = pl_data['resultSet']['first']\n",
    "##### LAST_MATCHDAY = pl_data['resultSet']['last']\n",
    "\n",
    "##### FIRST_MATCHDAY, LAST_MATCHDAY"
   ]
  },
  {
   "cell_type": "code",
   "execution_count": 11,
   "id": "c8a04c08-2175-4ca6-a2f1-b36280dfd69c",
   "metadata": {},
   "outputs": [
    {
     "data": {
      "text/plain": [
       "2021"
      ]
     },
     "execution_count": 11,
     "metadata": {},
     "output_type": "execute_result"
    }
   ],
   "source": [
    "LEAGUE_ID = pl_data['competition']['id']\n",
    "\n",
    "LEAGUE_ID"
   ]
  },
  {
   "cell_type": "code",
   "execution_count": 12,
   "id": "ca57d6a2-2531-4fe7-b997-3d09576fef64",
   "metadata": {},
   "outputs": [],
   "source": [
    "# pl_data['matches']"
   ]
  },
  {
   "cell_type": "code",
   "execution_count": 13,
   "id": "dd749201-517a-4c63-9fa5-257ae87b880a",
   "metadata": {
    "scrolled": true
   },
   "outputs": [],
   "source": [
    "# pl_data['matches'][0]"
   ]
  },
  {
   "cell_type": "code",
   "execution_count": 14,
   "id": "3a0f9e52-72a2-4f5a-aa4b-678f789a81a1",
   "metadata": {},
   "outputs": [],
   "source": [
    "# pl_data['matches'][0].keys()"
   ]
  },
  {
   "cell_type": "code",
   "execution_count": 15,
   "id": "20b0e895-a1f5-4a27-a4ad-e28df80680fb",
   "metadata": {},
   "outputs": [
    {
     "data": {
      "text/plain": [
       "('2023-08-11', '2024-05-19')"
      ]
     },
     "execution_count": 15,
     "metadata": {},
     "output_type": "execute_result"
    }
   ],
   "source": [
    "FIRST_MATCHDAY = pl_data['matches'][0]['season']['startDate']\n",
    "LAST_MATCHDAY = pl_data['matches'][0]['season']['endDate']\n",
    "FIRST_MATCHDAY, LAST_MATCHDAY"
   ]
  },
  {
   "cell_type": "code",
   "execution_count": 16,
   "id": "f005105a-7620-4f5a-89f2-6be94beb5b58",
   "metadata": {},
   "outputs": [
    {
     "data": {
      "text/plain": [
       "435943"
      ]
     },
     "execution_count": 16,
     "metadata": {},
     "output_type": "execute_result"
    }
   ],
   "source": [
    "match_id = pl_data['matches'][0]['id']\n",
    "\n",
    "match_id"
   ]
  },
  {
   "cell_type": "code",
   "execution_count": 17,
   "id": "54753fa3-672a-4244-ad8d-92a0e3bcc523",
   "metadata": {},
   "outputs": [
    {
     "data": {
      "text/plain": [
       "'2023-08-11T19:00:00Z'"
      ]
     },
     "execution_count": 17,
     "metadata": {},
     "output_type": "execute_result"
    }
   ],
   "source": [
    "matchdate = pl_data['matches'][0]['utcDate']\n",
    "matchdate"
   ]
  },
  {
   "cell_type": "code",
   "execution_count": 18,
   "id": "ceb88896-f702-4fea-b98e-e93b4a328be9",
   "metadata": {},
   "outputs": [
    {
     "data": {
      "text/plain": [
       "'Burnley'"
      ]
     },
     "execution_count": 18,
     "metadata": {},
     "output_type": "execute_result"
    }
   ],
   "source": [
    "home_team = pl_data['matches'][0]['homeTeam']['shortName']\n",
    "home_team"
   ]
  },
  {
   "cell_type": "code",
   "execution_count": 19,
   "id": "48066b69-2eee-485e-990e-f7f4fc414edb",
   "metadata": {},
   "outputs": [
    {
     "data": {
      "text/plain": [
       "'Man City'"
      ]
     },
     "execution_count": 19,
     "metadata": {},
     "output_type": "execute_result"
    }
   ],
   "source": [
    "away_team = pl_data['matches'][0]['awayTeam']['shortName']\n",
    "away_team"
   ]
  },
  {
   "cell_type": "code",
   "execution_count": 20,
   "id": "7092e0b3-c861-4544-a6ab-1a350c0612b3",
   "metadata": {},
   "outputs": [
    {
     "data": {
      "text/plain": [
       "0"
      ]
     },
     "execution_count": 20,
     "metadata": {},
     "output_type": "execute_result"
    }
   ],
   "source": [
    "home_score = pl_data['matches'][0]['score']['fullTime']['home']\n",
    "home_score"
   ]
  },
  {
   "cell_type": "code",
   "execution_count": 21,
   "id": "bb268a95-67ab-4375-a317-65a9ef00587f",
   "metadata": {},
   "outputs": [
    {
     "data": {
      "text/plain": [
       "3"
      ]
     },
     "execution_count": 21,
     "metadata": {},
     "output_type": "execute_result"
    }
   ],
   "source": [
    "away_score = pl_data['matches'][0]['score']['fullTime']['away']\n",
    "away_score"
   ]
  },
  {
   "cell_type": "code",
   "execution_count": 98,
   "id": "f852f001-3ce3-4b1d-8650-32155f9b19ec",
   "metadata": {},
   "outputs": [],
   "source": [
    "def get_match_points(home_score: int, away_score: int) -> tuple[int, int]:\n",
    "\n",
    "    if isinstance(home_score, int):\n",
    "        if home_score == away_score:\n",
    "            home_team_points, away_team_points = 1, 1\n",
    "        elif home_score > away_score:\n",
    "            home_team_points = 3\n",
    "            away_team_points = 0\n",
    "        else:\n",
    "            home_team_points = 0\n",
    "            away_team_points = 3\n",
    "    else:\n",
    "        home_team_points = None\n",
    "        away_team_points = None\n",
    "    \n",
    "    return home_team_points, away_team_points "
   ]
  },
  {
   "cell_type": "code",
   "execution_count": 99,
   "id": "15d02d30-b667-4710-92fa-f962e919415b",
   "metadata": {},
   "outputs": [],
   "source": [
    "def get_goal_difference(home_score: int, away_score: int) -> tuple[int, int]:\n",
    "    if isinstance(home_score, int):\n",
    "        home_gd = home_score - away_score\n",
    "        away_gd = -home_gd\n",
    "    else:\n",
    "        home_gd = None\n",
    "        away_gd = None\n",
    "\n",
    "    return home_gd, -home_gd"
   ]
  },
  {
   "cell_type": "code",
   "execution_count": 100,
   "id": "87f9965c-4d80-4759-83bd-81f22f2798ab",
   "metadata": {},
   "outputs": [],
   "source": [
    "leagues = {'Premier League': [38, 10], \n",
    "          'Bundesliga': [34, 9], \n",
    "          'Ligue 1': [34, 9], \n",
    "          'La Liga': [38, 10], \n",
    "          'Serie A': [38, 10]}"
   ]
  },
  {
   "cell_type": "code",
   "execution_count": 128,
   "id": "a425e9ff-add8-4779-91b4-ec174b5ed16e",
   "metadata": {},
   "outputs": [
    {
     "name": "stdout",
     "output_type": "stream",
     "text": [
      "Getting data for Premier League...\n",
      "Getting data for Bundesliga...\n",
      "Getting data for Ligue 1...\n",
      "Getting data for La Liga...\n",
      "Getting data for Serie A...\n",
      "Successfully completed adding data for top 5 leagues...\n"
     ]
    }
   ],
   "source": [
    "columns = ['league', 'season', 'league_id', 'season_start_date', 'season_end_date', \n",
    "           'matchday', 'match_id', 'match_date', 'home_team', 'away_team', \n",
    "           'home_score', 'away_score', 'home_team_points_earned', 'away_team_points_earned', \n",
    "           'home_team_gd', 'away_team_gd', 'match_referee']\n",
    "\n",
    "df = pd.DataFrame(columns = columns)\n",
    "\n",
    "for league, total_matchdays in leagues.items():\n",
    "\n",
    "    print(f\"Getting data for {league}...\")\n",
    "    # Get Season, League_id, first and last matchday dates only once as that is a constant\n",
    "    firstday_data = data[league][0]\n",
    "    SEASON = int(firstday_data['filters']['season'])\n",
    "    LEAGUE_ID = firstday_data['competition']['id']\n",
    "    FIRST_MATCHDAY = firstday_data['matches'][0]['season']['startDate']\n",
    "    LAST_MATCHDAY = firstday_data['matches'][0]['season']['endDate']\n",
    "    \n",
    "    # Also need to consider status\n",
    "    for mday in range(0, total_matchdays[0]):\n",
    "        # print(f\"\\tGetting matchday {mday+1} data...\")\n",
    "        pl_data = data[league][mday]\n",
    "\n",
    "        # No data available for matchday 23 of Serie A :(\n",
    "        if league == 'Serie A' and mday == 22:\n",
    "            pass\n",
    "        else:\n",
    "            matchday = int(pl_data['filters']['matchday'])\n",
    "        \n",
    "            for match_num in range(0, total_matchdays[1]):\n",
    "                # print(f\"\\t\\tGetting data for match {match_num + 1}\")\n",
    "                match_data = pl_data['matches'][match_num]\n",
    "                match_id = match_data['id']\n",
    "                matchdate = match_data['utcDate']\n",
    "                home_team = match_data['homeTeam']['shortName']\n",
    "                away_team = match_data['awayTeam']['shortName']\n",
    "                home_score = match_data['score']['fullTime']['home']\n",
    "                away_score = match_data['score']['fullTime']['away']\n",
    "                      \n",
    "                try:\n",
    "                    match_referee = match_data['referees'][0]['name']\n",
    "                except IndexError:\n",
    "                    match_referee = ''\n",
    "                \n",
    "                home_team_points, away_team_points = get_match_points(home_score=home_score, away_score=away_score)\n",
    "                \n",
    "                try:\n",
    "                    home_team_gd, away_team_gd = get_goal_difference(home_score=home_score, away_score=away_score)\n",
    "                except TypeError:\n",
    "                    home_team_gd, away_team_gd = None, None\n",
    "                    \n",
    "                df.loc[len(df.index)] = [league, SEASON, LEAGUE_ID, FIRST_MATCHDAY, LAST_MATCHDAY, \n",
    "                                         matchday, match_id, matchdate, home_team, away_team, \n",
    "                                         home_score, away_score, home_team_points, away_team_points, \n",
    "                                         home_team_gd, away_team_gd, match_referee]\n",
    "\n",
    "print(\"Successfully completed adding data for top 5 leagues...\")"
   ]
  },
  {
   "cell_type": "code",
   "execution_count": 129,
   "id": "df85ae84-557c-4a06-befe-252d7422c6d0",
   "metadata": {},
   "outputs": [
    {
     "name": "stdout",
     "output_type": "stream",
     "text": [
      "<class 'pandas.core.frame.DataFrame'>\n",
      "Index: 1742 entries, 0 to 1741\n",
      "Data columns (total 17 columns):\n",
      " #   Column                   Non-Null Count  Dtype \n",
      "---  ------                   --------------  ----- \n",
      " 0   league                   1742 non-null   object\n",
      " 1   season                   1742 non-null   int64 \n",
      " 2   league_id                1742 non-null   int64 \n",
      " 3   season_start_date        1742 non-null   object\n",
      " 4   season_end_date          1742 non-null   object\n",
      " 5   matchday                 1742 non-null   int64 \n",
      " 6   match_id                 1742 non-null   int64 \n",
      " 7   match_date               1742 non-null   object\n",
      " 8   home_team                1742 non-null   object\n",
      " 9   away_team                1742 non-null   object\n",
      " 10  home_score               1292 non-null   object\n",
      " 11  away_score               1292 non-null   object\n",
      " 12  home_team_points_earned  1292 non-null   object\n",
      " 13  away_team_points_earned  1292 non-null   object\n",
      " 14  home_team_gd             1292 non-null   object\n",
      " 15  away_team_gd             1292 non-null   object\n",
      " 16  match_referee            1742 non-null   object\n",
      "dtypes: int64(4), object(13)\n",
      "memory usage: 245.0+ KB\n"
     ]
    }
   ],
   "source": [
    "df.info()"
   ]
  },
  {
   "cell_type": "code",
   "execution_count": 130,
   "id": "30e0b561-81a1-478a-bb28-40c94d05b3ef",
   "metadata": {},
   "outputs": [],
   "source": [
    "# Convert some columns to correct dtype\n",
    "df.season_start_date = pd.to_datetime(df.season_start_date)\n",
    "df.season_end_date = pd.to_datetime(df.season_end_date)\n",
    "df.match_date = pd.to_datetime(df.match_date).dt.date\n",
    "df.match_date = pd.to_datetime(df.match_date)"
   ]
  },
  {
   "cell_type": "code",
   "execution_count": 131,
   "id": "fbd7d986-7871-4de2-a4a7-ba8d0ef149df",
   "metadata": {},
   "outputs": [
    {
     "name": "stdout",
     "output_type": "stream",
     "text": [
      "<class 'pandas.core.frame.DataFrame'>\n",
      "Index: 1742 entries, 0 to 1741\n",
      "Data columns (total 17 columns):\n",
      " #   Column                   Non-Null Count  Dtype         \n",
      "---  ------                   --------------  -----         \n",
      " 0   league                   1742 non-null   object        \n",
      " 1   season                   1742 non-null   int64         \n",
      " 2   league_id                1742 non-null   int64         \n",
      " 3   season_start_date        1742 non-null   datetime64[ns]\n",
      " 4   season_end_date          1742 non-null   datetime64[ns]\n",
      " 5   matchday                 1742 non-null   int64         \n",
      " 6   match_id                 1742 non-null   int64         \n",
      " 7   match_date               1742 non-null   datetime64[ns]\n",
      " 8   home_team                1742 non-null   object        \n",
      " 9   away_team                1742 non-null   object        \n",
      " 10  home_score               1292 non-null   object        \n",
      " 11  away_score               1292 non-null   object        \n",
      " 12  home_team_points_earned  1292 non-null   object        \n",
      " 13  away_team_points_earned  1292 non-null   object        \n",
      " 14  home_team_gd             1292 non-null   object        \n",
      " 15  away_team_gd             1292 non-null   object        \n",
      " 16  match_referee            1742 non-null   object        \n",
      "dtypes: datetime64[ns](3), int64(4), object(10)\n",
      "memory usage: 245.0+ KB\n"
     ]
    }
   ],
   "source": [
    "df.info()"
   ]
  },
  {
   "cell_type": "code",
   "execution_count": 132,
   "id": "1da9fbfa-a307-4d05-881c-8f5a9a0b5db3",
   "metadata": {},
   "outputs": [
    {
     "data": {
      "text/plain": [
       "league                       0\n",
       "season                       0\n",
       "league_id                    0\n",
       "season_start_date            0\n",
       "season_end_date              0\n",
       "matchday                     0\n",
       "match_id                     0\n",
       "match_date                   0\n",
       "home_team                    0\n",
       "away_team                    0\n",
       "home_score                 450\n",
       "away_score                 450\n",
       "home_team_points_earned    450\n",
       "away_team_points_earned    450\n",
       "home_team_gd               450\n",
       "away_team_gd               450\n",
       "match_referee                0\n",
       "dtype: int64"
      ]
     },
     "execution_count": 132,
     "metadata": {},
     "output_type": "execute_result"
    }
   ],
   "source": [
    "df.isnull().sum()"
   ]
  },
  {
   "cell_type": "code",
   "execution_count": 133,
   "id": "2ad8ef2d-e093-4910-b450-b4357c96166c",
   "metadata": {},
   "outputs": [],
   "source": [
    "df = df.fillna('Match not completed')"
   ]
  },
  {
   "cell_type": "code",
   "execution_count": 134,
   "id": "f7d812c7-9195-4cb7-a5c6-d600a00261cc",
   "metadata": {},
   "outputs": [
    {
     "name": "stdout",
     "output_type": "stream",
     "text": [
      "<class 'pandas.core.frame.DataFrame'>\n",
      "Index: 1742 entries, 0 to 1741\n",
      "Data columns (total 17 columns):\n",
      " #   Column                   Non-Null Count  Dtype         \n",
      "---  ------                   --------------  -----         \n",
      " 0   league                   1742 non-null   object        \n",
      " 1   season                   1742 non-null   int64         \n",
      " 2   league_id                1742 non-null   int64         \n",
      " 3   season_start_date        1742 non-null   datetime64[ns]\n",
      " 4   season_end_date          1742 non-null   datetime64[ns]\n",
      " 5   matchday                 1742 non-null   int64         \n",
      " 6   match_id                 1742 non-null   int64         \n",
      " 7   match_date               1742 non-null   datetime64[ns]\n",
      " 8   home_team                1742 non-null   object        \n",
      " 9   away_team                1742 non-null   object        \n",
      " 10  home_score               1742 non-null   object        \n",
      " 11  away_score               1742 non-null   object        \n",
      " 12  home_team_points_earned  1742 non-null   object        \n",
      " 13  away_team_points_earned  1742 non-null   object        \n",
      " 14  home_team_gd             1742 non-null   object        \n",
      " 15  away_team_gd             1742 non-null   object        \n",
      " 16  match_referee            1742 non-null   object        \n",
      "dtypes: datetime64[ns](3), int64(4), object(10)\n",
      "memory usage: 245.0+ KB\n"
     ]
    }
   ],
   "source": [
    "df.info()"
   ]
  },
  {
   "cell_type": "code",
   "execution_count": 135,
   "id": "64ee21bb-c8ff-4356-b65a-853229b8c068",
   "metadata": {},
   "outputs": [
    {
     "data": {
      "text/plain": [
       "home_score\n",
       "1    426\n",
       "2    312\n",
       "0    275\n",
       "3    180\n",
       "4     63\n",
       "5     29\n",
       "6      3\n",
       "7      2\n",
       "8      2\n",
       "Name: count, dtype: int64"
      ]
     },
     "execution_count": 135,
     "metadata": {},
     "output_type": "execute_result"
    }
   ],
   "source": [
    "df[df['home_score'] != 'Match not completed']['home_score'].value_counts()"
   ]
  },
  {
   "cell_type": "code",
   "execution_count": 136,
   "id": "f059b46f-3051-4bca-aeaf-47294ddfa41e",
   "metadata": {},
   "outputs": [
    {
     "data": {
      "text/plain": [
       "away_score\n",
       "1    435\n",
       "0    393\n",
       "2    277\n",
       "3    133\n",
       "4     39\n",
       "5      9\n",
       "6      4\n",
       "8      1\n",
       "7      1\n",
       "Name: count, dtype: int64"
      ]
     },
     "execution_count": 136,
     "metadata": {},
     "output_type": "execute_result"
    }
   ],
   "source": [
    "df[df['away_score'] != 'Match not completed']['away_score'].value_counts()"
   ]
  },
  {
   "cell_type": "code",
   "execution_count": 158,
   "id": "fe45b487-f581-4282-ac60-65f89a0f3590",
   "metadata": {},
   "outputs": [
    {
     "data": {
      "text/html": [
       "<div>\n",
       "<style scoped>\n",
       "    .dataframe tbody tr th:only-of-type {\n",
       "        vertical-align: middle;\n",
       "    }\n",
       "\n",
       "    .dataframe tbody tr th {\n",
       "        vertical-align: top;\n",
       "    }\n",
       "\n",
       "    .dataframe thead th {\n",
       "        text-align: right;\n",
       "    }\n",
       "</style>\n",
       "<table border=\"1\" class=\"dataframe\">\n",
       "  <thead>\n",
       "    <tr style=\"text-align: right;\">\n",
       "      <th></th>\n",
       "      <th>league</th>\n",
       "      <th>season</th>\n",
       "      <th>league_id</th>\n",
       "      <th>season_start_date</th>\n",
       "      <th>season_end_date</th>\n",
       "      <th>matchday</th>\n",
       "      <th>match_id</th>\n",
       "      <th>match_date</th>\n",
       "      <th>home_team</th>\n",
       "      <th>away_team</th>\n",
       "      <th>home_score</th>\n",
       "      <th>away_score</th>\n",
       "      <th>home_team_points_earned</th>\n",
       "      <th>away_team_points_earned</th>\n",
       "      <th>home_team_gd</th>\n",
       "      <th>away_team_gd</th>\n",
       "      <th>match_referee</th>\n",
       "    </tr>\n",
       "  </thead>\n",
       "  <tbody>\n",
       "    <tr>\n",
       "      <th>59</th>\n",
       "      <td>Premier League</td>\n",
       "      <td>2023</td>\n",
       "      <td>2021</td>\n",
       "      <td>2023-08-11</td>\n",
       "      <td>2024-05-19</td>\n",
       "      <td>6</td>\n",
       "      <td>436002</td>\n",
       "      <td>2023-09-24</td>\n",
       "      <td>Sheffield Utd</td>\n",
       "      <td>Newcastle</td>\n",
       "      <td>0</td>\n",
       "      <td>8</td>\n",
       "      <td>0</td>\n",
       "      <td>3</td>\n",
       "      <td>-8</td>\n",
       "      <td>8</td>\n",
       "      <td>Stuart Attwell</td>\n",
       "    </tr>\n",
       "    <tr>\n",
       "      <th>1021</th>\n",
       "      <td>La Liga</td>\n",
       "      <td>2023</td>\n",
       "      <td>2014</td>\n",
       "      <td>2023-08-13</td>\n",
       "      <td>2024-05-26</td>\n",
       "      <td>3</td>\n",
       "      <td>438502</td>\n",
       "      <td>2023-08-28</td>\n",
       "      <td>Rayo Vallecano</td>\n",
       "      <td>Atleti</td>\n",
       "      <td>0</td>\n",
       "      <td>7</td>\n",
       "      <td>0</td>\n",
       "      <td>3</td>\n",
       "      <td>-7</td>\n",
       "      <td>7</td>\n",
       "      <td>José Munuera Montero</td>\n",
       "    </tr>\n",
       "  </tbody>\n",
       "</table>\n",
       "</div>"
      ],
      "text/plain": [
       "              league  season  league_id season_start_date season_end_date  \\\n",
       "59    Premier League    2023       2021        2023-08-11      2024-05-19   \n",
       "1021         La Liga    2023       2014        2023-08-13      2024-05-26   \n",
       "\n",
       "      matchday  match_id match_date       home_team  away_team home_score  \\\n",
       "59           6    436002 2023-09-24   Sheffield Utd  Newcastle          0   \n",
       "1021         3    438502 2023-08-28  Rayo Vallecano     Atleti          0   \n",
       "\n",
       "     away_score home_team_points_earned away_team_points_earned home_team_gd  \\\n",
       "59            8                       0                       3           -8   \n",
       "1021          7                       0                       3           -7   \n",
       "\n",
       "     away_team_gd         match_referee  \n",
       "59              8        Stuart Attwell  \n",
       "1021            7  José Munuera Montero  "
      ]
     },
     "execution_count": 158,
     "metadata": {},
     "output_type": "execute_result"
    }
   ],
   "source": [
    "df[(df['away_score'] == 7) | (df['away_score'] == 8)]"
   ]
  },
  {
   "cell_type": "code",
   "execution_count": null,
   "id": "d753eff7-2037-44e1-9e39-5f389a1593df",
   "metadata": {},
   "outputs": [],
   "source": []
  }
 ],
 "metadata": {
  "kernelspec": {
   "display_name": "Python 3 (ipykernel)",
   "language": "python",
   "name": "python3"
  },
  "language_info": {
   "codemirror_mode": {
    "name": "ipython",
    "version": 3
   },
   "file_extension": ".py",
   "mimetype": "text/x-python",
   "name": "python",
   "nbconvert_exporter": "python",
   "pygments_lexer": "ipython3",
   "version": "3.10.13"
  }
 },
 "nbformat": 4,
 "nbformat_minor": 5
}
